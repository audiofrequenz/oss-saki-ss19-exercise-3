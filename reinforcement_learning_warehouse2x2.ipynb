{
 "cells": [
  {
   "cell_type": "code",
   "execution_count": 1,
   "metadata": {},
   "outputs": [],
   "source": [
    "import itertools\n",
    "import numpy as np\n",
    "\n",
    "\n",
    "def generate_states():\n",
    "    storage_state = [\"x\",\"r\",\"b\",\"w\"] #0 = empty, r = red, b = blue, w = white\n",
    "    actions = [\"sb\", \"sr\", \"sw\", \"rb\", \"rr\", \"rw\"] #sb/sr/sw = store_blue/red/white || rb/rr/rw = restore blue/red/white\n",
    "    #storage_states = [p for p in itertools.product(storage_state, repeat=4)]\n",
    "    storage_states = []\n",
    "    for action in actions:\n",
    "        for x1 in storage_state:\n",
    "            for x2 in storage_state:\n",
    "                for x3 in storage_state:\n",
    "                    for x4 in storage_state:\n",
    "                        st = (x1, x2, x3, x4, action)\n",
    "                        storage_states.append(st)\n",
    "\n",
    "    print(len(storage_states))\n",
    "    print(storage_states)\n",
    "    return storage_states"
   ]
  },
  {
   "cell_type": "code",
   "execution_count": 2,
   "metadata": {},
   "outputs": [],
   "source": [
    "#Matrix = [[0 for x in range(len(storage_states))] for y in range(len(storage_states))]\n",
    "#print(len(Matrix[0]))\n",
    "#print(len(Matrix[1535]))"
   ]
  },
  {
   "cell_type": "code",
   "execution_count": 3,
   "metadata": {},
   "outputs": [],
   "source": [
    "import csv\n",
    "import pandas as pd\n",
    "def load_training_df():\n",
    "    data = pd.read_csv(\"SAKI_Exercise_3_warehousetraining2x2.txt\", delimiter='\\t', names=[\"action\", \"color\"])\n",
    "    data.head()\n",
    "    df = data.copy()\n",
    "    return df"
   ]
  },
  {
   "cell_type": "code",
   "execution_count": 4,
   "metadata": {},
   "outputs": [],
   "source": [
    "def calc_container_distribution(dataframe):\n",
    "    count_of_trainingset = len(dataframe)\n",
    "    distribution_df = dataframe.copy()\n",
    "    print(count_of_trainingset)\n",
    "    distribution_df = distribution_df.groupby(['action', 'color']).size().reset_index(name='count')\n",
    "    distribution_df['count'] = distribution_df['count'].div(count_of_trainingset)\n",
    "    return distribution_df"
   ]
  },
  {
   "cell_type": "code",
   "execution_count": 6,
   "metadata": {},
   "outputs": [],
   "source": [
    "def get_color(state):\n",
    "    return state[4][1].lower()\n",
    "\n",
    "\n",
    "def has_warehouse_free_slots(state):\n",
    "    for s in state:\n",
    "        if s == \"x\":\n",
    "            return True\n",
    "    return False\n",
    "\n",
    "def does_warehouse_store_color(state, color_to_restore):\n",
    "    for s in state:\n",
    "        if s == color_to_restore:\n",
    "            return True\n",
    "    return False\n",
    "\n",
    "\n",
    "def is_warehouse_empty(state):\n",
    "    for s in state:\n",
    "        if s != 'x':\n",
    "            return False\n",
    "    return True\n",
    "\n",
    "def distribute_transition_probability_matrix(tpm):\n",
    "    for index, row_vector in enumerate(tpm):\n",
    "        sum = np.sum(row_vector)\n",
    "        if sum == 0:\n",
    "            # no transition was possible for this state (e. g. restore from empty warehouse)\n",
    "            # it should stay in the state then since the sum of each row has to equal one\n",
    "            tpm[index, index] = 1\n",
    "            continue\n",
    "    # give every possible transition the same possibility by dividing every element by the sum\n",
    "    # of the row. E. g. [0, 0, 1, 1, 0, 0] will be converted to [0, 0, 0.5, 0.5, 0, 0].\n",
    "    # This will also result in the sum of the row equal to one.\n",
    "    tpm = tpm / tpm.sum(axis=1)[:, None]\n",
    "    return tpm\n",
    "\n",
    "def is_store_action_possible(state_1, state_2):\n",
    "    if not has_warehouse_free_slots(state_1):\n",
    "        return False\n",
    "\n",
    "    color_to_store = get_color(state_1)\n",
    "\n",
    "    changed_slots = 0\n",
    "\n",
    "    for i in range(len(state_1)):\n",
    "        if i == 4:\n",
    "            break\n",
    "\n",
    "        if state_1[i] != \"x\" and state_1[i] != state_2[i]:\n",
    "            # a slot was overwritten, that is not possible\n",
    "            return False\n",
    "\n",
    "        if state_1[i] == \"x\" and state_2[i] != color_to_store and state_2[i] != \"x\":\n",
    "            # an empty slot was overwritten, but with something else we expected, not possible\n",
    "            return False\n",
    "\n",
    "        if state_1[i] == \"x\" and state_2[i] == color_to_store:\n",
    "            changed_slots += 1\n",
    "\n",
    "    if changed_slots != 1:\n",
    "        # more or less than one empty slot were stored, not possible\n",
    "        return False\n",
    "\n",
    "    return True\n",
    "\n",
    "\n",
    "def is_restore_action_possible(state_1, state_2):\n",
    "\n",
    "    color_to_restore = get_color(state_1)\n",
    "    if does_warehouse_store_color(state_1, color_to_restore) == False or is_warehouse_empty(state_1):\n",
    "        # Warehouse does not store color, so we obviously can't restore it\n",
    "        return False\n",
    "\n",
    "    changed_slots = 0\n",
    "    for i in range(len(state_1)):\n",
    "        if i == 4:\n",
    "            break\n",
    "\n",
    "        if state_1[i] != color_to_restore and state_1[i] != state_2[i]:\n",
    "            # something changed which had nothing to do with the restore color command, not possible\n",
    "            return False\n",
    "\n",
    "        if state_1[i] == color_to_restore and state_2[i] != \"x\" and state_2[i] != color_to_restore:\n",
    "            # a color was replaced instead of just getting it, not possible\n",
    "            return False\n",
    "\n",
    "        if state_1[i] == color_to_restore and state_2[i] == 'x':\n",
    "            changed_slots += 1\n",
    "\n",
    "    if changed_slots != 1:\n",
    "        # more or less than one empty slot were restored, not possible\n",
    "        return False\n",
    "    \n",
    "    return True\n",
    "\n",
    "def is_transition_possible(curr_state, next_state):\n",
    "    curr_action = curr_state[4]\n",
    "    if curr_action == \"sb\" or curr_action == \"sr\" or curr_action == \"sw\":\n",
    "        return is_store_action_possible(curr_state, next_state)\n",
    "    else:\n",
    "        return is_restore_action_possible(curr_state, next_state)\n",
    "    \n",
    "def get_transition_probability_matrix(states):\n",
    "    tp_matrix = np.zeros((len(states), len(states)), dtype=float, order='C')\n",
    "    for x, curr_state in enumerate(states, start=0):\n",
    "        for y, next_state in enumerate(states, start=0):\n",
    "            if is_transition_possible(curr_state, next_state):\n",
    "                tp_matrix[x, y] = 1\n",
    "    return distribute_transition_probability_matrix(tp_matrix)"
   ]
  },
  {
   "cell_type": "code",
   "execution_count": 7,
   "metadata": {},
   "outputs": [],
   "source": [
    "def get_costs(index):\n",
    "    costs_map = {\n",
    "        0: 1,\n",
    "        1: 2,\n",
    "        2: 2,\n",
    "        3: 3\n",
    "    }\n",
    "    return costs_map.get(index, 0)\n",
    "\n",
    "\n",
    "def get_reward(state_1, state_2):\n",
    "    # The reward here is defined by the distance that the robot has to do\n",
    "    # We define a standard reward of 10, the distances are the cost.\n",
    "    # Since we have 4 states, the first index has the cost of 1, the second\n",
    "    # and third index a cost of 2 and the forth index a cost of 3, since the\n",
    "    # robot has to travel the longest there. That means, we just have to track\n",
    "    # which field changes in the states.\n",
    "    for i in range(len(state_1)):\n",
    "        if state_1[i] != state_2[i]:\n",
    "            return 10 - get_costs(i)\n",
    "    return 0\n",
    "\n",
    "\n",
    "def get_reward_matrix(states, tpm):\n",
    "    rm = np.zeros((len(states), len(states)))\n",
    "    for i, state_1 in enumerate(states, start=0):\n",
    "        for j, state_2 in enumerate(states, start=0):\n",
    "            if tpm[i, j] == 0:\n",
    "                # there is no probability, so there is no reward\n",
    "                rm[i, j] = 0\n",
    "            else:\n",
    "                rm[i, j] = get_reward(state_1, state_2)\n",
    "    return rm"
   ]
  },
  {
   "cell_type": "code",
   "execution_count": 8,
   "metadata": {},
   "outputs": [
    {
     "name": "stdout",
     "output_type": "stream",
     "text": [
      "1536\n",
      "[('x', 'x', 'x', 'x', 'sb'), ('x', 'x', 'x', 'r', 'sb'), ('x', 'x', 'x', 'b', 'sb'), ('x', 'x', 'x', 'w', 'sb'), ('x', 'x', 'r', 'x', 'sb'), ('x', 'x', 'r', 'r', 'sb'), ('x', 'x', 'r', 'b', 'sb'), ('x', 'x', 'r', 'w', 'sb'), ('x', 'x', 'b', 'x', 'sb'), ('x', 'x', 'b', 'r', 'sb'), ('x', 'x', 'b', 'b', 'sb'), ('x', 'x', 'b', 'w', 'sb'), ('x', 'x', 'w', 'x', 'sb'), ('x', 'x', 'w', 'r', 'sb'), ('x', 'x', 'w', 'b', 'sb'), ('x', 'x', 'w', 'w', 'sb'), ('x', 'r', 'x', 'x', 'sb'), ('x', 'r', 'x', 'r', 'sb'), ('x', 'r', 'x', 'b', 'sb'), ('x', 'r', 'x', 'w', 'sb'), ('x', 'r', 'r', 'x', 'sb'), ('x', 'r', 'r', 'r', 'sb'), ('x', 'r', 'r', 'b', 'sb'), ('x', 'r', 'r', 'w', 'sb'), ('x', 'r', 'b', 'x', 'sb'), ('x', 'r', 'b', 'r', 'sb'), ('x', 'r', 'b', 'b', 'sb'), ('x', 'r', 'b', 'w', 'sb'), ('x', 'r', 'w', 'x', 'sb'), ('x', 'r', 'w', 'r', 'sb'), ('x', 'r', 'w', 'b', 'sb'), ('x', 'r', 'w', 'w', 'sb'), ('x', 'b', 'x', 'x', 'sb'), ('x', 'b', 'x', 'r', 'sb'), ('x', 'b', 'x', 'b', 'sb'), ('x', 'b', 'x', 'w', 'sb'), ('x', 'b', 'r', 'x', 'sb'), ('x', 'b', 'r', 'r', 'sb'), ('x', 'b', 'r', 'b', 'sb'), ('x', 'b', 'r', 'w', 'sb'), ('x', 'b', 'b', 'x', 'sb'), ('x', 'b', 'b', 'r', 'sb'), ('x', 'b', 'b', 'b', 'sb'), ('x', 'b', 'b', 'w', 'sb'), ('x', 'b', 'w', 'x', 'sb'), ('x', 'b', 'w', 'r', 'sb'), ('x', 'b', 'w', 'b', 'sb'), ('x', 'b', 'w', 'w', 'sb'), ('x', 'w', 'x', 'x', 'sb'), ('x', 'w', 'x', 'r', 'sb'), ('x', 'w', 'x', 'b', 'sb'), ('x', 'w', 'x', 'w', 'sb'), ('x', 'w', 'r', 'x', 'sb'), ('x', 'w', 'r', 'r', 'sb'), ('x', 'w', 'r', 'b', 'sb'), ('x', 'w', 'r', 'w', 'sb'), ('x', 'w', 'b', 'x', 'sb'), ('x', 'w', 'b', 'r', 'sb'), ('x', 'w', 'b', 'b', 'sb'), ('x', 'w', 'b', 'w', 'sb'), ('x', 'w', 'w', 'x', 'sb'), ('x', 'w', 'w', 'r', 'sb'), ('x', 'w', 'w', 'b', 'sb'), ('x', 'w', 'w', 'w', 'sb'), ('r', 'x', 'x', 'x', 'sb'), ('r', 'x', 'x', 'r', 'sb'), ('r', 'x', 'x', 'b', 'sb'), ('r', 'x', 'x', 'w', 'sb'), ('r', 'x', 'r', 'x', 'sb'), ('r', 'x', 'r', 'r', 'sb'), ('r', 'x', 'r', 'b', 'sb'), ('r', 'x', 'r', 'w', 'sb'), ('r', 'x', 'b', 'x', 'sb'), ('r', 'x', 'b', 'r', 'sb'), ('r', 'x', 'b', 'b', 'sb'), ('r', 'x', 'b', 'w', 'sb'), ('r', 'x', 'w', 'x', 'sb'), ('r', 'x', 'w', 'r', 'sb'), ('r', 'x', 'w', 'b', 'sb'), ('r', 'x', 'w', 'w', 'sb'), ('r', 'r', 'x', 'x', 'sb'), ('r', 'r', 'x', 'r', 'sb'), ('r', 'r', 'x', 'b', 'sb'), ('r', 'r', 'x', 'w', 'sb'), ('r', 'r', 'r', 'x', 'sb'), ('r', 'r', 'r', 'r', 'sb'), ('r', 'r', 'r', 'b', 'sb'), ('r', 'r', 'r', 'w', 'sb'), ('r', 'r', 'b', 'x', 'sb'), ('r', 'r', 'b', 'r', 'sb'), ('r', 'r', 'b', 'b', 'sb'), ('r', 'r', 'b', 'w', 'sb'), ('r', 'r', 'w', 'x', 'sb'), ('r', 'r', 'w', 'r', 'sb'), ('r', 'r', 'w', 'b', 'sb'), ('r', 'r', 'w', 'w', 'sb'), ('r', 'b', 'x', 'x', 'sb'), ('r', 'b', 'x', 'r', 'sb'), ('r', 'b', 'x', 'b', 'sb'), ('r', 'b', 'x', 'w', 'sb'), ('r', 'b', 'r', 'x', 'sb'), ('r', 'b', 'r', 'r', 'sb'), ('r', 'b', 'r', 'b', 'sb'), ('r', 'b', 'r', 'w', 'sb'), ('r', 'b', 'b', 'x', 'sb'), ('r', 'b', 'b', 'r', 'sb'), ('r', 'b', 'b', 'b', 'sb'), ('r', 'b', 'b', 'w', 'sb'), ('r', 'b', 'w', 'x', 'sb'), ('r', 'b', 'w', 'r', 'sb'), ('r', 'b', 'w', 'b', 'sb'), ('r', 'b', 'w', 'w', 'sb'), ('r', 'w', 'x', 'x', 'sb'), ('r', 'w', 'x', 'r', 'sb'), ('r', 'w', 'x', 'b', 'sb'), ('r', 'w', 'x', 'w', 'sb'), ('r', 'w', 'r', 'x', 'sb'), ('r', 'w', 'r', 'r', 'sb'), ('r', 'w', 'r', 'b', 'sb'), ('r', 'w', 'r', 'w', 'sb'), ('r', 'w', 'b', 'x', 'sb'), ('r', 'w', 'b', 'r', 'sb'), ('r', 'w', 'b', 'b', 'sb'), ('r', 'w', 'b', 'w', 'sb'), ('r', 'w', 'w', 'x', 'sb'), ('r', 'w', 'w', 'r', 'sb'), ('r', 'w', 'w', 'b', 'sb'), ('r', 'w', 'w', 'w', 'sb'), ('b', 'x', 'x', 'x', 'sb'), ('b', 'x', 'x', 'r', 'sb'), ('b', 'x', 'x', 'b', 'sb'), ('b', 'x', 'x', 'w', 'sb'), ('b', 'x', 'r', 'x', 'sb'), ('b', 'x', 'r', 'r', 'sb'), ('b', 'x', 'r', 'b', 'sb'), ('b', 'x', 'r', 'w', 'sb'), ('b', 'x', 'b', 'x', 'sb'), ('b', 'x', 'b', 'r', 'sb'), ('b', 'x', 'b', 'b', 'sb'), ('b', 'x', 'b', 'w', 'sb'), ('b', 'x', 'w', 'x', 'sb'), ('b', 'x', 'w', 'r', 'sb'), ('b', 'x', 'w', 'b', 'sb'), ('b', 'x', 'w', 'w', 'sb'), ('b', 'r', 'x', 'x', 'sb'), ('b', 'r', 'x', 'r', 'sb'), ('b', 'r', 'x', 'b', 'sb'), ('b', 'r', 'x', 'w', 'sb'), ('b', 'r', 'r', 'x', 'sb'), ('b', 'r', 'r', 'r', 'sb'), ('b', 'r', 'r', 'b', 'sb'), ('b', 'r', 'r', 'w', 'sb'), ('b', 'r', 'b', 'x', 'sb'), ('b', 'r', 'b', 'r', 'sb'), ('b', 'r', 'b', 'b', 'sb'), ('b', 'r', 'b', 'w', 'sb'), ('b', 'r', 'w', 'x', 'sb'), ('b', 'r', 'w', 'r', 'sb'), ('b', 'r', 'w', 'b', 'sb'), ('b', 'r', 'w', 'w', 'sb'), ('b', 'b', 'x', 'x', 'sb'), ('b', 'b', 'x', 'r', 'sb'), ('b', 'b', 'x', 'b', 'sb'), ('b', 'b', 'x', 'w', 'sb'), ('b', 'b', 'r', 'x', 'sb'), ('b', 'b', 'r', 'r', 'sb'), ('b', 'b', 'r', 'b', 'sb'), ('b', 'b', 'r', 'w', 'sb'), ('b', 'b', 'b', 'x', 'sb'), ('b', 'b', 'b', 'r', 'sb'), ('b', 'b', 'b', 'b', 'sb'), ('b', 'b', 'b', 'w', 'sb'), ('b', 'b', 'w', 'x', 'sb'), ('b', 'b', 'w', 'r', 'sb'), ('b', 'b', 'w', 'b', 'sb'), ('b', 'b', 'w', 'w', 'sb'), ('b', 'w', 'x', 'x', 'sb'), ('b', 'w', 'x', 'r', 'sb'), ('b', 'w', 'x', 'b', 'sb'), ('b', 'w', 'x', 'w', 'sb'), ('b', 'w', 'r', 'x', 'sb'), ('b', 'w', 'r', 'r', 'sb'), ('b', 'w', 'r', 'b', 'sb'), ('b', 'w', 'r', 'w', 'sb'), ('b', 'w', 'b', 'x', 'sb'), ('b', 'w', 'b', 'r', 'sb'), ('b', 'w', 'b', 'b', 'sb'), ('b', 'w', 'b', 'w', 'sb'), ('b', 'w', 'w', 'x', 'sb'), ('b', 'w', 'w', 'r', 'sb'), ('b', 'w', 'w', 'b', 'sb'), ('b', 'w', 'w', 'w', 'sb'), ('w', 'x', 'x', 'x', 'sb'), ('w', 'x', 'x', 'r', 'sb'), ('w', 'x', 'x', 'b', 'sb'), ('w', 'x', 'x', 'w', 'sb'), ('w', 'x', 'r', 'x', 'sb'), ('w', 'x', 'r', 'r', 'sb'), ('w', 'x', 'r', 'b', 'sb'), ('w', 'x', 'r', 'w', 'sb'), ('w', 'x', 'b', 'x', 'sb'), ('w', 'x', 'b', 'r', 'sb'), ('w', 'x', 'b', 'b', 'sb'), ('w', 'x', 'b', 'w', 'sb'), ('w', 'x', 'w', 'x', 'sb'), ('w', 'x', 'w', 'r', 'sb'), ('w', 'x', 'w', 'b', 'sb'), ('w', 'x', 'w', 'w', 'sb'), ('w', 'r', 'x', 'x', 'sb'), ('w', 'r', 'x', 'r', 'sb'), ('w', 'r', 'x', 'b', 'sb'), ('w', 'r', 'x', 'w', 'sb'), ('w', 'r', 'r', 'x', 'sb'), ('w', 'r', 'r', 'r', 'sb'), ('w', 'r', 'r', 'b', 'sb'), ('w', 'r', 'r', 'w', 'sb'), ('w', 'r', 'b', 'x', 'sb'), ('w', 'r', 'b', 'r', 'sb'), ('w', 'r', 'b', 'b', 'sb'), ('w', 'r', 'b', 'w', 'sb'), ('w', 'r', 'w', 'x', 'sb'), ('w', 'r', 'w', 'r', 'sb'), ('w', 'r', 'w', 'b', 'sb'), ('w', 'r', 'w', 'w', 'sb'), ('w', 'b', 'x', 'x', 'sb'), ('w', 'b', 'x', 'r', 'sb'), ('w', 'b', 'x', 'b', 'sb'), ('w', 'b', 'x', 'w', 'sb'), ('w', 'b', 'r', 'x', 'sb'), ('w', 'b', 'r', 'r', 'sb'), ('w', 'b', 'r', 'b', 'sb'), ('w', 'b', 'r', 'w', 'sb'), ('w', 'b', 'b', 'x', 'sb'), ('w', 'b', 'b', 'r', 'sb'), ('w', 'b', 'b', 'b', 'sb'), ('w', 'b', 'b', 'w', 'sb'), ('w', 'b', 'w', 'x', 'sb'), ('w', 'b', 'w', 'r', 'sb'), ('w', 'b', 'w', 'b', 'sb'), ('w', 'b', 'w', 'w', 'sb'), ('w', 'w', 'x', 'x', 'sb'), ('w', 'w', 'x', 'r', 'sb'), ('w', 'w', 'x', 'b', 'sb'), ('w', 'w', 'x', 'w', 'sb'), ('w', 'w', 'r', 'x', 'sb'), ('w', 'w', 'r', 'r', 'sb'), ('w', 'w', 'r', 'b', 'sb'), ('w', 'w', 'r', 'w', 'sb'), ('w', 'w', 'b', 'x', 'sb'), ('w', 'w', 'b', 'r', 'sb'), ('w', 'w', 'b', 'b', 'sb'), ('w', 'w', 'b', 'w', 'sb'), ('w', 'w', 'w', 'x', 'sb'), ('w', 'w', 'w', 'r', 'sb'), ('w', 'w', 'w', 'b', 'sb'), ('w', 'w', 'w', 'w', 'sb'), ('x', 'x', 'x', 'x', 'sr'), ('x', 'x', 'x', 'r', 'sr'), ('x', 'x', 'x', 'b', 'sr'), ('x', 'x', 'x', 'w', 'sr'), ('x', 'x', 'r', 'x', 'sr'), ('x', 'x', 'r', 'r', 'sr'), ('x', 'x', 'r', 'b', 'sr'), ('x', 'x', 'r', 'w', 'sr'), ('x', 'x', 'b', 'x', 'sr'), ('x', 'x', 'b', 'r', 'sr'), ('x', 'x', 'b', 'b', 'sr'), ('x', 'x', 'b', 'w', 'sr'), ('x', 'x', 'w', 'x', 'sr'), ('x', 'x', 'w', 'r', 'sr'), ('x', 'x', 'w', 'b', 'sr'), ('x', 'x', 'w', 'w', 'sr'), ('x', 'r', 'x', 'x', 'sr'), ('x', 'r', 'x', 'r', 'sr'), ('x', 'r', 'x', 'b', 'sr'), ('x', 'r', 'x', 'w', 'sr'), ('x', 'r', 'r', 'x', 'sr'), ('x', 'r', 'r', 'r', 'sr'), ('x', 'r', 'r', 'b', 'sr'), ('x', 'r', 'r', 'w', 'sr'), ('x', 'r', 'b', 'x', 'sr'), ('x', 'r', 'b', 'r', 'sr'), ('x', 'r', 'b', 'b', 'sr'), ('x', 'r', 'b', 'w', 'sr'), ('x', 'r', 'w', 'x', 'sr'), ('x', 'r', 'w', 'r', 'sr'), ('x', 'r', 'w', 'b', 'sr'), ('x', 'r', 'w', 'w', 'sr'), ('x', 'b', 'x', 'x', 'sr'), ('x', 'b', 'x', 'r', 'sr'), ('x', 'b', 'x', 'b', 'sr'), ('x', 'b', 'x', 'w', 'sr'), ('x', 'b', 'r', 'x', 'sr'), ('x', 'b', 'r', 'r', 'sr'), ('x', 'b', 'r', 'b', 'sr'), ('x', 'b', 'r', 'w', 'sr'), ('x', 'b', 'b', 'x', 'sr'), ('x', 'b', 'b', 'r', 'sr'), ('x', 'b', 'b', 'b', 'sr'), ('x', 'b', 'b', 'w', 'sr'), ('x', 'b', 'w', 'x', 'sr'), ('x', 'b', 'w', 'r', 'sr'), ('x', 'b', 'w', 'b', 'sr'), ('x', 'b', 'w', 'w', 'sr'), ('x', 'w', 'x', 'x', 'sr'), ('x', 'w', 'x', 'r', 'sr'), ('x', 'w', 'x', 'b', 'sr'), ('x', 'w', 'x', 'w', 'sr'), ('x', 'w', 'r', 'x', 'sr'), ('x', 'w', 'r', 'r', 'sr'), ('x', 'w', 'r', 'b', 'sr'), ('x', 'w', 'r', 'w', 'sr'), ('x', 'w', 'b', 'x', 'sr'), ('x', 'w', 'b', 'r', 'sr'), ('x', 'w', 'b', 'b', 'sr'), ('x', 'w', 'b', 'w', 'sr'), ('x', 'w', 'w', 'x', 'sr'), ('x', 'w', 'w', 'r', 'sr'), ('x', 'w', 'w', 'b', 'sr'), ('x', 'w', 'w', 'w', 'sr'), ('r', 'x', 'x', 'x', 'sr'), ('r', 'x', 'x', 'r', 'sr'), ('r', 'x', 'x', 'b', 'sr'), ('r', 'x', 'x', 'w', 'sr'), ('r', 'x', 'r', 'x', 'sr'), ('r', 'x', 'r', 'r', 'sr'), ('r', 'x', 'r', 'b', 'sr'), ('r', 'x', 'r', 'w', 'sr'), ('r', 'x', 'b', 'x', 'sr'), ('r', 'x', 'b', 'r', 'sr'), ('r', 'x', 'b', 'b', 'sr'), ('r', 'x', 'b', 'w', 'sr'), ('r', 'x', 'w', 'x', 'sr'), ('r', 'x', 'w', 'r', 'sr'), ('r', 'x', 'w', 'b', 'sr'), ('r', 'x', 'w', 'w', 'sr'), ('r', 'r', 'x', 'x', 'sr'), ('r', 'r', 'x', 'r', 'sr'), ('r', 'r', 'x', 'b', 'sr'), ('r', 'r', 'x', 'w', 'sr'), ('r', 'r', 'r', 'x', 'sr'), ('r', 'r', 'r', 'r', 'sr'), ('r', 'r', 'r', 'b', 'sr'), ('r', 'r', 'r', 'w', 'sr'), ('r', 'r', 'b', 'x', 'sr'), ('r', 'r', 'b', 'r', 'sr'), ('r', 'r', 'b', 'b', 'sr'), ('r', 'r', 'b', 'w', 'sr'), ('r', 'r', 'w', 'x', 'sr'), ('r', 'r', 'w', 'r', 'sr'), ('r', 'r', 'w', 'b', 'sr'), ('r', 'r', 'w', 'w', 'sr'), ('r', 'b', 'x', 'x', 'sr'), ('r', 'b', 'x', 'r', 'sr'), ('r', 'b', 'x', 'b', 'sr'), ('r', 'b', 'x', 'w', 'sr'), ('r', 'b', 'r', 'x', 'sr'), ('r', 'b', 'r', 'r', 'sr'), ('r', 'b', 'r', 'b', 'sr'), ('r', 'b', 'r', 'w', 'sr'), ('r', 'b', 'b', 'x', 'sr'), ('r', 'b', 'b', 'r', 'sr'), ('r', 'b', 'b', 'b', 'sr'), ('r', 'b', 'b', 'w', 'sr'), ('r', 'b', 'w', 'x', 'sr'), ('r', 'b', 'w', 'r', 'sr'), ('r', 'b', 'w', 'b', 'sr'), ('r', 'b', 'w', 'w', 'sr'), ('r', 'w', 'x', 'x', 'sr'), ('r', 'w', 'x', 'r', 'sr'), ('r', 'w', 'x', 'b', 'sr'), ('r', 'w', 'x', 'w', 'sr'), ('r', 'w', 'r', 'x', 'sr'), ('r', 'w', 'r', 'r', 'sr'), ('r', 'w', 'r', 'b', 'sr'), ('r', 'w', 'r', 'w', 'sr'), ('r', 'w', 'b', 'x', 'sr'), ('r', 'w', 'b', 'r', 'sr'), ('r', 'w', 'b', 'b', 'sr'), ('r', 'w', 'b', 'w', 'sr'), ('r', 'w', 'w', 'x', 'sr'), ('r', 'w', 'w', 'r', 'sr'), ('r', 'w', 'w', 'b', 'sr'), ('r', 'w', 'w', 'w', 'sr'), ('b', 'x', 'x', 'x', 'sr'), ('b', 'x', 'x', 'r', 'sr'), ('b', 'x', 'x', 'b', 'sr'), ('b', 'x', 'x', 'w', 'sr'), ('b', 'x', 'r', 'x', 'sr'), ('b', 'x', 'r', 'r', 'sr'), ('b', 'x', 'r', 'b', 'sr'), ('b', 'x', 'r', 'w', 'sr'), ('b', 'x', 'b', 'x', 'sr'), ('b', 'x', 'b', 'r', 'sr'), ('b', 'x', 'b', 'b', 'sr'), ('b', 'x', 'b', 'w', 'sr'), ('b', 'x', 'w', 'x', 'sr'), ('b', 'x', 'w', 'r', 'sr'), ('b', 'x', 'w', 'b', 'sr'), ('b', 'x', 'w', 'w', 'sr'), ('b', 'r', 'x', 'x', 'sr'), ('b', 'r', 'x', 'r', 'sr'), ('b', 'r', 'x', 'b', 'sr'), ('b', 'r', 'x', 'w', 'sr'), ('b', 'r', 'r', 'x', 'sr'), ('b', 'r', 'r', 'r', 'sr'), ('b', 'r', 'r', 'b', 'sr'), ('b', 'r', 'r', 'w', 'sr'), ('b', 'r', 'b', 'x', 'sr'), ('b', 'r', 'b', 'r', 'sr'), ('b', 'r', 'b', 'b', 'sr'), ('b', 'r', 'b', 'w', 'sr'), ('b', 'r', 'w', 'x', 'sr'), ('b', 'r', 'w', 'r', 'sr'), ('b', 'r', 'w', 'b', 'sr'), ('b', 'r', 'w', 'w', 'sr'), ('b', 'b', 'x', 'x', 'sr'), ('b', 'b', 'x', 'r', 'sr'), ('b', 'b', 'x', 'b', 'sr'), ('b', 'b', 'x', 'w', 'sr'), ('b', 'b', 'r', 'x', 'sr'), ('b', 'b', 'r', 'r', 'sr'), ('b', 'b', 'r', 'b', 'sr'), ('b', 'b', 'r', 'w', 'sr'), ('b', 'b', 'b', 'x', 'sr'), ('b', 'b', 'b', 'r', 'sr'), ('b', 'b', 'b', 'b', 'sr'), ('b', 'b', 'b', 'w', 'sr'), ('b', 'b', 'w', 'x', 'sr'), ('b', 'b', 'w', 'r', 'sr'), ('b', 'b', 'w', 'b', 'sr'), ('b', 'b', 'w', 'w', 'sr'), ('b', 'w', 'x', 'x', 'sr'), ('b', 'w', 'x', 'r', 'sr'), ('b', 'w', 'x', 'b', 'sr'), ('b', 'w', 'x', 'w', 'sr'), ('b', 'w', 'r', 'x', 'sr'), ('b', 'w', 'r', 'r', 'sr'), ('b', 'w', 'r', 'b', 'sr'), ('b', 'w', 'r', 'w', 'sr'), ('b', 'w', 'b', 'x', 'sr'), ('b', 'w', 'b', 'r', 'sr'), ('b', 'w', 'b', 'b', 'sr'), ('b', 'w', 'b', 'w', 'sr'), ('b', 'w', 'w', 'x', 'sr'), ('b', 'w', 'w', 'r', 'sr'), ('b', 'w', 'w', 'b', 'sr'), ('b', 'w', 'w', 'w', 'sr'), ('w', 'x', 'x', 'x', 'sr'), ('w', 'x', 'x', 'r', 'sr'), ('w', 'x', 'x', 'b', 'sr'), ('w', 'x', 'x', 'w', 'sr'), ('w', 'x', 'r', 'x', 'sr'), ('w', 'x', 'r', 'r', 'sr'), ('w', 'x', 'r', 'b', 'sr'), ('w', 'x', 'r', 'w', 'sr'), ('w', 'x', 'b', 'x', 'sr'), ('w', 'x', 'b', 'r', 'sr'), ('w', 'x', 'b', 'b', 'sr'), ('w', 'x', 'b', 'w', 'sr'), ('w', 'x', 'w', 'x', 'sr'), ('w', 'x', 'w', 'r', 'sr'), ('w', 'x', 'w', 'b', 'sr'), ('w', 'x', 'w', 'w', 'sr'), ('w', 'r', 'x', 'x', 'sr'), ('w', 'r', 'x', 'r', 'sr'), ('w', 'r', 'x', 'b', 'sr'), ('w', 'r', 'x', 'w', 'sr'), ('w', 'r', 'r', 'x', 'sr'), ('w', 'r', 'r', 'r', 'sr'), ('w', 'r', 'r', 'b', 'sr'), ('w', 'r', 'r', 'w', 'sr'), ('w', 'r', 'b', 'x', 'sr'), ('w', 'r', 'b', 'r', 'sr'), ('w', 'r', 'b', 'b', 'sr'), ('w', 'r', 'b', 'w', 'sr'), ('w', 'r', 'w', 'x', 'sr'), ('w', 'r', 'w', 'r', 'sr'), ('w', 'r', 'w', 'b', 'sr'), ('w', 'r', 'w', 'w', 'sr'), ('w', 'b', 'x', 'x', 'sr'), ('w', 'b', 'x', 'r', 'sr'), ('w', 'b', 'x', 'b', 'sr'), ('w', 'b', 'x', 'w', 'sr'), ('w', 'b', 'r', 'x', 'sr'), ('w', 'b', 'r', 'r', 'sr'), ('w', 'b', 'r', 'b', 'sr'), ('w', 'b', 'r', 'w', 'sr'), ('w', 'b', 'b', 'x', 'sr'), ('w', 'b', 'b', 'r', 'sr'), ('w', 'b', 'b', 'b', 'sr'), ('w', 'b', 'b', 'w', 'sr'), ('w', 'b', 'w', 'x', 'sr'), ('w', 'b', 'w', 'r', 'sr'), ('w', 'b', 'w', 'b', 'sr'), ('w', 'b', 'w', 'w', 'sr'), ('w', 'w', 'x', 'x', 'sr'), ('w', 'w', 'x', 'r', 'sr'), ('w', 'w', 'x', 'b', 'sr'), ('w', 'w', 'x', 'w', 'sr'), ('w', 'w', 'r', 'x', 'sr'), ('w', 'w', 'r', 'r', 'sr'), ('w', 'w', 'r', 'b', 'sr'), ('w', 'w', 'r', 'w', 'sr'), ('w', 'w', 'b', 'x', 'sr'), ('w', 'w', 'b', 'r', 'sr'), ('w', 'w', 'b', 'b', 'sr'), ('w', 'w', 'b', 'w', 'sr'), ('w', 'w', 'w', 'x', 'sr'), ('w', 'w', 'w', 'r', 'sr'), ('w', 'w', 'w', 'b', 'sr'), ('w', 'w', 'w', 'w', 'sr'), ('x', 'x', 'x', 'x', 'sw'), ('x', 'x', 'x', 'r', 'sw'), ('x', 'x', 'x', 'b', 'sw'), ('x', 'x', 'x', 'w', 'sw'), ('x', 'x', 'r', 'x', 'sw'), ('x', 'x', 'r', 'r', 'sw'), ('x', 'x', 'r', 'b', 'sw'), ('x', 'x', 'r', 'w', 'sw'), ('x', 'x', 'b', 'x', 'sw'), ('x', 'x', 'b', 'r', 'sw'), ('x', 'x', 'b', 'b', 'sw'), ('x', 'x', 'b', 'w', 'sw'), ('x', 'x', 'w', 'x', 'sw'), ('x', 'x', 'w', 'r', 'sw'), ('x', 'x', 'w', 'b', 'sw'), ('x', 'x', 'w', 'w', 'sw'), ('x', 'r', 'x', 'x', 'sw'), ('x', 'r', 'x', 'r', 'sw'), ('x', 'r', 'x', 'b', 'sw'), ('x', 'r', 'x', 'w', 'sw'), ('x', 'r', 'r', 'x', 'sw'), ('x', 'r', 'r', 'r', 'sw'), ('x', 'r', 'r', 'b', 'sw'), ('x', 'r', 'r', 'w', 'sw'), ('x', 'r', 'b', 'x', 'sw'), ('x', 'r', 'b', 'r', 'sw'), ('x', 'r', 'b', 'b', 'sw'), ('x', 'r', 'b', 'w', 'sw'), ('x', 'r', 'w', 'x', 'sw'), ('x', 'r', 'w', 'r', 'sw'), ('x', 'r', 'w', 'b', 'sw'), ('x', 'r', 'w', 'w', 'sw'), ('x', 'b', 'x', 'x', 'sw'), ('x', 'b', 'x', 'r', 'sw'), ('x', 'b', 'x', 'b', 'sw'), ('x', 'b', 'x', 'w', 'sw'), ('x', 'b', 'r', 'x', 'sw'), ('x', 'b', 'r', 'r', 'sw'), ('x', 'b', 'r', 'b', 'sw'), ('x', 'b', 'r', 'w', 'sw'), ('x', 'b', 'b', 'x', 'sw'), ('x', 'b', 'b', 'r', 'sw'), ('x', 'b', 'b', 'b', 'sw'), ('x', 'b', 'b', 'w', 'sw'), ('x', 'b', 'w', 'x', 'sw'), ('x', 'b', 'w', 'r', 'sw'), ('x', 'b', 'w', 'b', 'sw'), ('x', 'b', 'w', 'w', 'sw'), ('x', 'w', 'x', 'x', 'sw'), ('x', 'w', 'x', 'r', 'sw'), ('x', 'w', 'x', 'b', 'sw'), ('x', 'w', 'x', 'w', 'sw'), ('x', 'w', 'r', 'x', 'sw'), ('x', 'w', 'r', 'r', 'sw'), ('x', 'w', 'r', 'b', 'sw'), ('x', 'w', 'r', 'w', 'sw'), ('x', 'w', 'b', 'x', 'sw'), ('x', 'w', 'b', 'r', 'sw'), ('x', 'w', 'b', 'b', 'sw'), ('x', 'w', 'b', 'w', 'sw'), ('x', 'w', 'w', 'x', 'sw'), ('x', 'w', 'w', 'r', 'sw'), ('x', 'w', 'w', 'b', 'sw'), ('x', 'w', 'w', 'w', 'sw'), ('r', 'x', 'x', 'x', 'sw'), ('r', 'x', 'x', 'r', 'sw'), ('r', 'x', 'x', 'b', 'sw'), ('r', 'x', 'x', 'w', 'sw'), ('r', 'x', 'r', 'x', 'sw'), ('r', 'x', 'r', 'r', 'sw'), ('r', 'x', 'r', 'b', 'sw'), ('r', 'x', 'r', 'w', 'sw'), ('r', 'x', 'b', 'x', 'sw'), ('r', 'x', 'b', 'r', 'sw'), ('r', 'x', 'b', 'b', 'sw'), ('r', 'x', 'b', 'w', 'sw'), ('r', 'x', 'w', 'x', 'sw'), ('r', 'x', 'w', 'r', 'sw'), ('r', 'x', 'w', 'b', 'sw'), ('r', 'x', 'w', 'w', 'sw'), ('r', 'r', 'x', 'x', 'sw'), ('r', 'r', 'x', 'r', 'sw'), ('r', 'r', 'x', 'b', 'sw'), ('r', 'r', 'x', 'w', 'sw'), ('r', 'r', 'r', 'x', 'sw'), ('r', 'r', 'r', 'r', 'sw'), ('r', 'r', 'r', 'b', 'sw'), ('r', 'r', 'r', 'w', 'sw'), ('r', 'r', 'b', 'x', 'sw'), ('r', 'r', 'b', 'r', 'sw'), ('r', 'r', 'b', 'b', 'sw'), ('r', 'r', 'b', 'w', 'sw'), ('r', 'r', 'w', 'x', 'sw'), ('r', 'r', 'w', 'r', 'sw'), ('r', 'r', 'w', 'b', 'sw'), ('r', 'r', 'w', 'w', 'sw'), ('r', 'b', 'x', 'x', 'sw'), ('r', 'b', 'x', 'r', 'sw'), ('r', 'b', 'x', 'b', 'sw'), ('r', 'b', 'x', 'w', 'sw'), ('r', 'b', 'r', 'x', 'sw'), ('r', 'b', 'r', 'r', 'sw'), ('r', 'b', 'r', 'b', 'sw'), ('r', 'b', 'r', 'w', 'sw'), ('r', 'b', 'b', 'x', 'sw'), ('r', 'b', 'b', 'r', 'sw'), ('r', 'b', 'b', 'b', 'sw'), ('r', 'b', 'b', 'w', 'sw'), ('r', 'b', 'w', 'x', 'sw'), ('r', 'b', 'w', 'r', 'sw'), ('r', 'b', 'w', 'b', 'sw'), ('r', 'b', 'w', 'w', 'sw'), ('r', 'w', 'x', 'x', 'sw'), ('r', 'w', 'x', 'r', 'sw'), ('r', 'w', 'x', 'b', 'sw'), ('r', 'w', 'x', 'w', 'sw'), ('r', 'w', 'r', 'x', 'sw'), ('r', 'w', 'r', 'r', 'sw'), ('r', 'w', 'r', 'b', 'sw'), ('r', 'w', 'r', 'w', 'sw'), ('r', 'w', 'b', 'x', 'sw'), ('r', 'w', 'b', 'r', 'sw'), ('r', 'w', 'b', 'b', 'sw'), ('r', 'w', 'b', 'w', 'sw'), ('r', 'w', 'w', 'x', 'sw'), ('r', 'w', 'w', 'r', 'sw'), ('r', 'w', 'w', 'b', 'sw'), ('r', 'w', 'w', 'w', 'sw'), ('b', 'x', 'x', 'x', 'sw'), ('b', 'x', 'x', 'r', 'sw'), ('b', 'x', 'x', 'b', 'sw'), ('b', 'x', 'x', 'w', 'sw'), ('b', 'x', 'r', 'x', 'sw'), ('b', 'x', 'r', 'r', 'sw'), ('b', 'x', 'r', 'b', 'sw'), ('b', 'x', 'r', 'w', 'sw'), ('b', 'x', 'b', 'x', 'sw'), ('b', 'x', 'b', 'r', 'sw'), ('b', 'x', 'b', 'b', 'sw'), ('b', 'x', 'b', 'w', 'sw'), ('b', 'x', 'w', 'x', 'sw'), ('b', 'x', 'w', 'r', 'sw'), ('b', 'x', 'w', 'b', 'sw'), ('b', 'x', 'w', 'w', 'sw'), ('b', 'r', 'x', 'x', 'sw'), ('b', 'r', 'x', 'r', 'sw'), ('b', 'r', 'x', 'b', 'sw'), ('b', 'r', 'x', 'w', 'sw'), ('b', 'r', 'r', 'x', 'sw'), ('b', 'r', 'r', 'r', 'sw'), ('b', 'r', 'r', 'b', 'sw'), ('b', 'r', 'r', 'w', 'sw'), ('b', 'r', 'b', 'x', 'sw'), ('b', 'r', 'b', 'r', 'sw'), ('b', 'r', 'b', 'b', 'sw'), ('b', 'r', 'b', 'w', 'sw'), ('b', 'r', 'w', 'x', 'sw'), ('b', 'r', 'w', 'r', 'sw'), ('b', 'r', 'w', 'b', 'sw'), ('b', 'r', 'w', 'w', 'sw'), ('b', 'b', 'x', 'x', 'sw'), ('b', 'b', 'x', 'r', 'sw'), ('b', 'b', 'x', 'b', 'sw'), ('b', 'b', 'x', 'w', 'sw'), ('b', 'b', 'r', 'x', 'sw'), ('b', 'b', 'r', 'r', 'sw'), ('b', 'b', 'r', 'b', 'sw'), ('b', 'b', 'r', 'w', 'sw'), ('b', 'b', 'b', 'x', 'sw'), ('b', 'b', 'b', 'r', 'sw'), ('b', 'b', 'b', 'b', 'sw'), ('b', 'b', 'b', 'w', 'sw'), ('b', 'b', 'w', 'x', 'sw'), ('b', 'b', 'w', 'r', 'sw'), ('b', 'b', 'w', 'b', 'sw'), ('b', 'b', 'w', 'w', 'sw'), ('b', 'w', 'x', 'x', 'sw'), ('b', 'w', 'x', 'r', 'sw'), ('b', 'w', 'x', 'b', 'sw'), ('b', 'w', 'x', 'w', 'sw'), ('b', 'w', 'r', 'x', 'sw'), ('b', 'w', 'r', 'r', 'sw'), ('b', 'w', 'r', 'b', 'sw'), ('b', 'w', 'r', 'w', 'sw'), ('b', 'w', 'b', 'x', 'sw'), ('b', 'w', 'b', 'r', 'sw'), ('b', 'w', 'b', 'b', 'sw'), ('b', 'w', 'b', 'w', 'sw'), ('b', 'w', 'w', 'x', 'sw'), ('b', 'w', 'w', 'r', 'sw'), ('b', 'w', 'w', 'b', 'sw'), ('b', 'w', 'w', 'w', 'sw'), ('w', 'x', 'x', 'x', 'sw'), ('w', 'x', 'x', 'r', 'sw'), ('w', 'x', 'x', 'b', 'sw'), ('w', 'x', 'x', 'w', 'sw'), ('w', 'x', 'r', 'x', 'sw'), ('w', 'x', 'r', 'r', 'sw'), ('w', 'x', 'r', 'b', 'sw'), ('w', 'x', 'r', 'w', 'sw'), ('w', 'x', 'b', 'x', 'sw'), ('w', 'x', 'b', 'r', 'sw'), ('w', 'x', 'b', 'b', 'sw'), ('w', 'x', 'b', 'w', 'sw'), ('w', 'x', 'w', 'x', 'sw'), ('w', 'x', 'w', 'r', 'sw'), ('w', 'x', 'w', 'b', 'sw'), ('w', 'x', 'w', 'w', 'sw'), ('w', 'r', 'x', 'x', 'sw'), ('w', 'r', 'x', 'r', 'sw'), ('w', 'r', 'x', 'b', 'sw'), ('w', 'r', 'x', 'w', 'sw'), ('w', 'r', 'r', 'x', 'sw'), ('w', 'r', 'r', 'r', 'sw'), ('w', 'r', 'r', 'b', 'sw'), ('w', 'r', 'r', 'w', 'sw'), ('w', 'r', 'b', 'x', 'sw'), ('w', 'r', 'b', 'r', 'sw'), ('w', 'r', 'b', 'b', 'sw'), ('w', 'r', 'b', 'w', 'sw'), ('w', 'r', 'w', 'x', 'sw'), ('w', 'r', 'w', 'r', 'sw'), ('w', 'r', 'w', 'b', 'sw'), ('w', 'r', 'w', 'w', 'sw'), ('w', 'b', 'x', 'x', 'sw'), ('w', 'b', 'x', 'r', 'sw'), ('w', 'b', 'x', 'b', 'sw'), ('w', 'b', 'x', 'w', 'sw'), ('w', 'b', 'r', 'x', 'sw'), ('w', 'b', 'r', 'r', 'sw'), ('w', 'b', 'r', 'b', 'sw'), ('w', 'b', 'r', 'w', 'sw'), ('w', 'b', 'b', 'x', 'sw'), ('w', 'b', 'b', 'r', 'sw'), ('w', 'b', 'b', 'b', 'sw'), ('w', 'b', 'b', 'w', 'sw'), ('w', 'b', 'w', 'x', 'sw'), ('w', 'b', 'w', 'r', 'sw'), ('w', 'b', 'w', 'b', 'sw'), ('w', 'b', 'w', 'w', 'sw'), ('w', 'w', 'x', 'x', 'sw'), ('w', 'w', 'x', 'r', 'sw'), ('w', 'w', 'x', 'b', 'sw'), ('w', 'w', 'x', 'w', 'sw'), ('w', 'w', 'r', 'x', 'sw'), ('w', 'w', 'r', 'r', 'sw'), ('w', 'w', 'r', 'b', 'sw'), ('w', 'w', 'r', 'w', 'sw'), ('w', 'w', 'b', 'x', 'sw'), ('w', 'w', 'b', 'r', 'sw'), ('w', 'w', 'b', 'b', 'sw'), ('w', 'w', 'b', 'w', 'sw'), ('w', 'w', 'w', 'x', 'sw'), ('w', 'w', 'w', 'r', 'sw'), ('w', 'w', 'w', 'b', 'sw'), ('w', 'w', 'w', 'w', 'sw'), ('x', 'x', 'x', 'x', 'rb'), ('x', 'x', 'x', 'r', 'rb'), ('x', 'x', 'x', 'b', 'rb'), ('x', 'x', 'x', 'w', 'rb'), ('x', 'x', 'r', 'x', 'rb'), ('x', 'x', 'r', 'r', 'rb'), ('x', 'x', 'r', 'b', 'rb'), ('x', 'x', 'r', 'w', 'rb'), ('x', 'x', 'b', 'x', 'rb'), ('x', 'x', 'b', 'r', 'rb'), ('x', 'x', 'b', 'b', 'rb'), ('x', 'x', 'b', 'w', 'rb'), ('x', 'x', 'w', 'x', 'rb'), ('x', 'x', 'w', 'r', 'rb'), ('x', 'x', 'w', 'b', 'rb'), ('x', 'x', 'w', 'w', 'rb'), ('x', 'r', 'x', 'x', 'rb'), ('x', 'r', 'x', 'r', 'rb'), ('x', 'r', 'x', 'b', 'rb'), ('x', 'r', 'x', 'w', 'rb'), ('x', 'r', 'r', 'x', 'rb'), ('x', 'r', 'r', 'r', 'rb'), ('x', 'r', 'r', 'b', 'rb'), ('x', 'r', 'r', 'w', 'rb'), ('x', 'r', 'b', 'x', 'rb'), ('x', 'r', 'b', 'r', 'rb'), ('x', 'r', 'b', 'b', 'rb'), ('x', 'r', 'b', 'w', 'rb'), ('x', 'r', 'w', 'x', 'rb'), ('x', 'r', 'w', 'r', 'rb'), ('x', 'r', 'w', 'b', 'rb'), ('x', 'r', 'w', 'w', 'rb'), ('x', 'b', 'x', 'x', 'rb'), ('x', 'b', 'x', 'r', 'rb'), ('x', 'b', 'x', 'b', 'rb'), ('x', 'b', 'x', 'w', 'rb'), ('x', 'b', 'r', 'x', 'rb'), ('x', 'b', 'r', 'r', 'rb'), ('x', 'b', 'r', 'b', 'rb'), ('x', 'b', 'r', 'w', 'rb'), ('x', 'b', 'b', 'x', 'rb'), ('x', 'b', 'b', 'r', 'rb'), ('x', 'b', 'b', 'b', 'rb'), ('x', 'b', 'b', 'w', 'rb'), ('x', 'b', 'w', 'x', 'rb'), ('x', 'b', 'w', 'r', 'rb'), ('x', 'b', 'w', 'b', 'rb'), ('x', 'b', 'w', 'w', 'rb'), ('x', 'w', 'x', 'x', 'rb'), ('x', 'w', 'x', 'r', 'rb'), ('x', 'w', 'x', 'b', 'rb'), ('x', 'w', 'x', 'w', 'rb'), ('x', 'w', 'r', 'x', 'rb'), ('x', 'w', 'r', 'r', 'rb'), ('x', 'w', 'r', 'b', 'rb'), ('x', 'w', 'r', 'w', 'rb'), ('x', 'w', 'b', 'x', 'rb'), ('x', 'w', 'b', 'r', 'rb'), ('x', 'w', 'b', 'b', 'rb'), ('x', 'w', 'b', 'w', 'rb'), ('x', 'w', 'w', 'x', 'rb'), ('x', 'w', 'w', 'r', 'rb'), ('x', 'w', 'w', 'b', 'rb'), ('x', 'w', 'w', 'w', 'rb'), ('r', 'x', 'x', 'x', 'rb'), ('r', 'x', 'x', 'r', 'rb'), ('r', 'x', 'x', 'b', 'rb'), ('r', 'x', 'x', 'w', 'rb'), ('r', 'x', 'r', 'x', 'rb'), ('r', 'x', 'r', 'r', 'rb'), ('r', 'x', 'r', 'b', 'rb'), ('r', 'x', 'r', 'w', 'rb'), ('r', 'x', 'b', 'x', 'rb'), ('r', 'x', 'b', 'r', 'rb'), ('r', 'x', 'b', 'b', 'rb'), ('r', 'x', 'b', 'w', 'rb'), ('r', 'x', 'w', 'x', 'rb'), ('r', 'x', 'w', 'r', 'rb'), ('r', 'x', 'w', 'b', 'rb'), ('r', 'x', 'w', 'w', 'rb'), ('r', 'r', 'x', 'x', 'rb'), ('r', 'r', 'x', 'r', 'rb'), ('r', 'r', 'x', 'b', 'rb'), ('r', 'r', 'x', 'w', 'rb'), ('r', 'r', 'r', 'x', 'rb'), ('r', 'r', 'r', 'r', 'rb'), ('r', 'r', 'r', 'b', 'rb'), ('r', 'r', 'r', 'w', 'rb'), ('r', 'r', 'b', 'x', 'rb'), ('r', 'r', 'b', 'r', 'rb'), ('r', 'r', 'b', 'b', 'rb'), ('r', 'r', 'b', 'w', 'rb'), ('r', 'r', 'w', 'x', 'rb'), ('r', 'r', 'w', 'r', 'rb'), ('r', 'r', 'w', 'b', 'rb'), ('r', 'r', 'w', 'w', 'rb'), ('r', 'b', 'x', 'x', 'rb'), ('r', 'b', 'x', 'r', 'rb'), ('r', 'b', 'x', 'b', 'rb'), ('r', 'b', 'x', 'w', 'rb'), ('r', 'b', 'r', 'x', 'rb'), ('r', 'b', 'r', 'r', 'rb'), ('r', 'b', 'r', 'b', 'rb'), ('r', 'b', 'r', 'w', 'rb'), ('r', 'b', 'b', 'x', 'rb'), ('r', 'b', 'b', 'r', 'rb'), ('r', 'b', 'b', 'b', 'rb'), ('r', 'b', 'b', 'w', 'rb'), ('r', 'b', 'w', 'x', 'rb'), ('r', 'b', 'w', 'r', 'rb'), ('r', 'b', 'w', 'b', 'rb'), ('r', 'b', 'w', 'w', 'rb'), ('r', 'w', 'x', 'x', 'rb'), ('r', 'w', 'x', 'r', 'rb'), ('r', 'w', 'x', 'b', 'rb'), ('r', 'w', 'x', 'w', 'rb'), ('r', 'w', 'r', 'x', 'rb'), ('r', 'w', 'r', 'r', 'rb'), ('r', 'w', 'r', 'b', 'rb'), ('r', 'w', 'r', 'w', 'rb'), ('r', 'w', 'b', 'x', 'rb'), ('r', 'w', 'b', 'r', 'rb'), ('r', 'w', 'b', 'b', 'rb'), ('r', 'w', 'b', 'w', 'rb'), ('r', 'w', 'w', 'x', 'rb'), ('r', 'w', 'w', 'r', 'rb'), ('r', 'w', 'w', 'b', 'rb'), ('r', 'w', 'w', 'w', 'rb'), ('b', 'x', 'x', 'x', 'rb'), ('b', 'x', 'x', 'r', 'rb'), ('b', 'x', 'x', 'b', 'rb'), ('b', 'x', 'x', 'w', 'rb'), ('b', 'x', 'r', 'x', 'rb'), ('b', 'x', 'r', 'r', 'rb'), ('b', 'x', 'r', 'b', 'rb'), ('b', 'x', 'r', 'w', 'rb'), ('b', 'x', 'b', 'x', 'rb'), ('b', 'x', 'b', 'r', 'rb'), ('b', 'x', 'b', 'b', 'rb'), ('b', 'x', 'b', 'w', 'rb'), ('b', 'x', 'w', 'x', 'rb'), ('b', 'x', 'w', 'r', 'rb'), ('b', 'x', 'w', 'b', 'rb'), ('b', 'x', 'w', 'w', 'rb'), ('b', 'r', 'x', 'x', 'rb'), ('b', 'r', 'x', 'r', 'rb'), ('b', 'r', 'x', 'b', 'rb'), ('b', 'r', 'x', 'w', 'rb'), ('b', 'r', 'r', 'x', 'rb'), ('b', 'r', 'r', 'r', 'rb'), ('b', 'r', 'r', 'b', 'rb'), ('b', 'r', 'r', 'w', 'rb'), ('b', 'r', 'b', 'x', 'rb'), ('b', 'r', 'b', 'r', 'rb'), ('b', 'r', 'b', 'b', 'rb'), ('b', 'r', 'b', 'w', 'rb'), ('b', 'r', 'w', 'x', 'rb'), ('b', 'r', 'w', 'r', 'rb'), ('b', 'r', 'w', 'b', 'rb'), ('b', 'r', 'w', 'w', 'rb'), ('b', 'b', 'x', 'x', 'rb'), ('b', 'b', 'x', 'r', 'rb'), ('b', 'b', 'x', 'b', 'rb'), ('b', 'b', 'x', 'w', 'rb'), ('b', 'b', 'r', 'x', 'rb'), ('b', 'b', 'r', 'r', 'rb'), ('b', 'b', 'r', 'b', 'rb'), ('b', 'b', 'r', 'w', 'rb'), ('b', 'b', 'b', 'x', 'rb'), ('b', 'b', 'b', 'r', 'rb'), ('b', 'b', 'b', 'b', 'rb'), ('b', 'b', 'b', 'w', 'rb'), ('b', 'b', 'w', 'x', 'rb'), ('b', 'b', 'w', 'r', 'rb'), ('b', 'b', 'w', 'b', 'rb'), ('b', 'b', 'w', 'w', 'rb'), ('b', 'w', 'x', 'x', 'rb'), ('b', 'w', 'x', 'r', 'rb'), ('b', 'w', 'x', 'b', 'rb'), ('b', 'w', 'x', 'w', 'rb'), ('b', 'w', 'r', 'x', 'rb'), ('b', 'w', 'r', 'r', 'rb'), ('b', 'w', 'r', 'b', 'rb'), ('b', 'w', 'r', 'w', 'rb'), ('b', 'w', 'b', 'x', 'rb'), ('b', 'w', 'b', 'r', 'rb'), ('b', 'w', 'b', 'b', 'rb'), ('b', 'w', 'b', 'w', 'rb'), ('b', 'w', 'w', 'x', 'rb'), ('b', 'w', 'w', 'r', 'rb'), ('b', 'w', 'w', 'b', 'rb'), ('b', 'w', 'w', 'w', 'rb'), ('w', 'x', 'x', 'x', 'rb'), ('w', 'x', 'x', 'r', 'rb'), ('w', 'x', 'x', 'b', 'rb'), ('w', 'x', 'x', 'w', 'rb'), ('w', 'x', 'r', 'x', 'rb'), ('w', 'x', 'r', 'r', 'rb'), ('w', 'x', 'r', 'b', 'rb'), ('w', 'x', 'r', 'w', 'rb'), ('w', 'x', 'b', 'x', 'rb'), ('w', 'x', 'b', 'r', 'rb'), ('w', 'x', 'b', 'b', 'rb'), ('w', 'x', 'b', 'w', 'rb'), ('w', 'x', 'w', 'x', 'rb'), ('w', 'x', 'w', 'r', 'rb'), ('w', 'x', 'w', 'b', 'rb'), ('w', 'x', 'w', 'w', 'rb'), ('w', 'r', 'x', 'x', 'rb'), ('w', 'r', 'x', 'r', 'rb'), ('w', 'r', 'x', 'b', 'rb'), ('w', 'r', 'x', 'w', 'rb'), ('w', 'r', 'r', 'x', 'rb'), ('w', 'r', 'r', 'r', 'rb'), ('w', 'r', 'r', 'b', 'rb'), ('w', 'r', 'r', 'w', 'rb'), ('w', 'r', 'b', 'x', 'rb'), ('w', 'r', 'b', 'r', 'rb'), ('w', 'r', 'b', 'b', 'rb'), ('w', 'r', 'b', 'w', 'rb'), ('w', 'r', 'w', 'x', 'rb'), ('w', 'r', 'w', 'r', 'rb'), ('w', 'r', 'w', 'b', 'rb'), ('w', 'r', 'w', 'w', 'rb'), ('w', 'b', 'x', 'x', 'rb'), ('w', 'b', 'x', 'r', 'rb'), ('w', 'b', 'x', 'b', 'rb'), ('w', 'b', 'x', 'w', 'rb'), ('w', 'b', 'r', 'x', 'rb'), ('w', 'b', 'r', 'r', 'rb'), ('w', 'b', 'r', 'b', 'rb'), ('w', 'b', 'r', 'w', 'rb'), ('w', 'b', 'b', 'x', 'rb'), ('w', 'b', 'b', 'r', 'rb'), ('w', 'b', 'b', 'b', 'rb'), ('w', 'b', 'b', 'w', 'rb'), ('w', 'b', 'w', 'x', 'rb'), ('w', 'b', 'w', 'r', 'rb'), ('w', 'b', 'w', 'b', 'rb'), ('w', 'b', 'w', 'w', 'rb'), ('w', 'w', 'x', 'x', 'rb'), ('w', 'w', 'x', 'r', 'rb'), ('w', 'w', 'x', 'b', 'rb'), ('w', 'w', 'x', 'w', 'rb'), ('w', 'w', 'r', 'x', 'rb'), ('w', 'w', 'r', 'r', 'rb'), ('w', 'w', 'r', 'b', 'rb'), ('w', 'w', 'r', 'w', 'rb'), ('w', 'w', 'b', 'x', 'rb'), ('w', 'w', 'b', 'r', 'rb'), ('w', 'w', 'b', 'b', 'rb'), ('w', 'w', 'b', 'w', 'rb'), ('w', 'w', 'w', 'x', 'rb'), ('w', 'w', 'w', 'r', 'rb'), ('w', 'w', 'w', 'b', 'rb'), ('w', 'w', 'w', 'w', 'rb'), ('x', 'x', 'x', 'x', 'rr'), ('x', 'x', 'x', 'r', 'rr'), ('x', 'x', 'x', 'b', 'rr'), ('x', 'x', 'x', 'w', 'rr'), ('x', 'x', 'r', 'x', 'rr'), ('x', 'x', 'r', 'r', 'rr'), ('x', 'x', 'r', 'b', 'rr'), ('x', 'x', 'r', 'w', 'rr'), ('x', 'x', 'b', 'x', 'rr'), ('x', 'x', 'b', 'r', 'rr'), ('x', 'x', 'b', 'b', 'rr'), ('x', 'x', 'b', 'w', 'rr'), ('x', 'x', 'w', 'x', 'rr'), ('x', 'x', 'w', 'r', 'rr'), ('x', 'x', 'w', 'b', 'rr'), ('x', 'x', 'w', 'w', 'rr'), ('x', 'r', 'x', 'x', 'rr'), ('x', 'r', 'x', 'r', 'rr'), ('x', 'r', 'x', 'b', 'rr'), ('x', 'r', 'x', 'w', 'rr'), ('x', 'r', 'r', 'x', 'rr'), ('x', 'r', 'r', 'r', 'rr'), ('x', 'r', 'r', 'b', 'rr'), ('x', 'r', 'r', 'w', 'rr'), ('x', 'r', 'b', 'x', 'rr'), ('x', 'r', 'b', 'r', 'rr'), ('x', 'r', 'b', 'b', 'rr'), ('x', 'r', 'b', 'w', 'rr'), ('x', 'r', 'w', 'x', 'rr'), ('x', 'r', 'w', 'r', 'rr'), ('x', 'r', 'w', 'b', 'rr'), ('x', 'r', 'w', 'w', 'rr'), ('x', 'b', 'x', 'x', 'rr'), ('x', 'b', 'x', 'r', 'rr'), ('x', 'b', 'x', 'b', 'rr'), ('x', 'b', 'x', 'w', 'rr'), ('x', 'b', 'r', 'x', 'rr'), ('x', 'b', 'r', 'r', 'rr'), ('x', 'b', 'r', 'b', 'rr'), ('x', 'b', 'r', 'w', 'rr'), ('x', 'b', 'b', 'x', 'rr'), ('x', 'b', 'b', 'r', 'rr'), ('x', 'b', 'b', 'b', 'rr'), ('x', 'b', 'b', 'w', 'rr'), ('x', 'b', 'w', 'x', 'rr'), ('x', 'b', 'w', 'r', 'rr'), ('x', 'b', 'w', 'b', 'rr'), ('x', 'b', 'w', 'w', 'rr'), ('x', 'w', 'x', 'x', 'rr'), ('x', 'w', 'x', 'r', 'rr'), ('x', 'w', 'x', 'b', 'rr'), ('x', 'w', 'x', 'w', 'rr'), ('x', 'w', 'r', 'x', 'rr'), ('x', 'w', 'r', 'r', 'rr'), ('x', 'w', 'r', 'b', 'rr'), ('x', 'w', 'r', 'w', 'rr'), ('x', 'w', 'b', 'x', 'rr'), ('x', 'w', 'b', 'r', 'rr'), ('x', 'w', 'b', 'b', 'rr'), ('x', 'w', 'b', 'w', 'rr'), ('x', 'w', 'w', 'x', 'rr'), ('x', 'w', 'w', 'r', 'rr'), ('x', 'w', 'w', 'b', 'rr'), ('x', 'w', 'w', 'w', 'rr'), ('r', 'x', 'x', 'x', 'rr'), ('r', 'x', 'x', 'r', 'rr'), ('r', 'x', 'x', 'b', 'rr'), ('r', 'x', 'x', 'w', 'rr'), ('r', 'x', 'r', 'x', 'rr'), ('r', 'x', 'r', 'r', 'rr'), ('r', 'x', 'r', 'b', 'rr'), ('r', 'x', 'r', 'w', 'rr'), ('r', 'x', 'b', 'x', 'rr'), ('r', 'x', 'b', 'r', 'rr'), ('r', 'x', 'b', 'b', 'rr'), ('r', 'x', 'b', 'w', 'rr'), ('r', 'x', 'w', 'x', 'rr'), ('r', 'x', 'w', 'r', 'rr'), ('r', 'x', 'w', 'b', 'rr'), ('r', 'x', 'w', 'w', 'rr'), ('r', 'r', 'x', 'x', 'rr'), ('r', 'r', 'x', 'r', 'rr'), ('r', 'r', 'x', 'b', 'rr'), ('r', 'r', 'x', 'w', 'rr'), ('r', 'r', 'r', 'x', 'rr'), ('r', 'r', 'r', 'r', 'rr'), ('r', 'r', 'r', 'b', 'rr'), ('r', 'r', 'r', 'w', 'rr'), ('r', 'r', 'b', 'x', 'rr'), ('r', 'r', 'b', 'r', 'rr'), ('r', 'r', 'b', 'b', 'rr'), ('r', 'r', 'b', 'w', 'rr'), ('r', 'r', 'w', 'x', 'rr'), ('r', 'r', 'w', 'r', 'rr'), ('r', 'r', 'w', 'b', 'rr'), ('r', 'r', 'w', 'w', 'rr'), ('r', 'b', 'x', 'x', 'rr'), ('r', 'b', 'x', 'r', 'rr'), ('r', 'b', 'x', 'b', 'rr'), ('r', 'b', 'x', 'w', 'rr'), ('r', 'b', 'r', 'x', 'rr'), ('r', 'b', 'r', 'r', 'rr'), ('r', 'b', 'r', 'b', 'rr'), ('r', 'b', 'r', 'w', 'rr'), ('r', 'b', 'b', 'x', 'rr'), ('r', 'b', 'b', 'r', 'rr'), ('r', 'b', 'b', 'b', 'rr'), ('r', 'b', 'b', 'w', 'rr'), ('r', 'b', 'w', 'x', 'rr'), ('r', 'b', 'w', 'r', 'rr'), ('r', 'b', 'w', 'b', 'rr'), ('r', 'b', 'w', 'w', 'rr'), ('r', 'w', 'x', 'x', 'rr'), ('r', 'w', 'x', 'r', 'rr'), ('r', 'w', 'x', 'b', 'rr'), ('r', 'w', 'x', 'w', 'rr'), ('r', 'w', 'r', 'x', 'rr'), ('r', 'w', 'r', 'r', 'rr'), ('r', 'w', 'r', 'b', 'rr'), ('r', 'w', 'r', 'w', 'rr'), ('r', 'w', 'b', 'x', 'rr'), ('r', 'w', 'b', 'r', 'rr'), ('r', 'w', 'b', 'b', 'rr'), ('r', 'w', 'b', 'w', 'rr'), ('r', 'w', 'w', 'x', 'rr'), ('r', 'w', 'w', 'r', 'rr'), ('r', 'w', 'w', 'b', 'rr'), ('r', 'w', 'w', 'w', 'rr'), ('b', 'x', 'x', 'x', 'rr'), ('b', 'x', 'x', 'r', 'rr'), ('b', 'x', 'x', 'b', 'rr'), ('b', 'x', 'x', 'w', 'rr'), ('b', 'x', 'r', 'x', 'rr'), ('b', 'x', 'r', 'r', 'rr'), ('b', 'x', 'r', 'b', 'rr'), ('b', 'x', 'r', 'w', 'rr'), ('b', 'x', 'b', 'x', 'rr'), ('b', 'x', 'b', 'r', 'rr'), ('b', 'x', 'b', 'b', 'rr'), ('b', 'x', 'b', 'w', 'rr'), ('b', 'x', 'w', 'x', 'rr'), ('b', 'x', 'w', 'r', 'rr'), ('b', 'x', 'w', 'b', 'rr'), ('b', 'x', 'w', 'w', 'rr'), ('b', 'r', 'x', 'x', 'rr'), ('b', 'r', 'x', 'r', 'rr'), ('b', 'r', 'x', 'b', 'rr'), ('b', 'r', 'x', 'w', 'rr'), ('b', 'r', 'r', 'x', 'rr'), ('b', 'r', 'r', 'r', 'rr'), ('b', 'r', 'r', 'b', 'rr'), ('b', 'r', 'r', 'w', 'rr'), ('b', 'r', 'b', 'x', 'rr'), ('b', 'r', 'b', 'r', 'rr'), ('b', 'r', 'b', 'b', 'rr'), ('b', 'r', 'b', 'w', 'rr'), ('b', 'r', 'w', 'x', 'rr'), ('b', 'r', 'w', 'r', 'rr'), ('b', 'r', 'w', 'b', 'rr'), ('b', 'r', 'w', 'w', 'rr'), ('b', 'b', 'x', 'x', 'rr'), ('b', 'b', 'x', 'r', 'rr'), ('b', 'b', 'x', 'b', 'rr'), ('b', 'b', 'x', 'w', 'rr'), ('b', 'b', 'r', 'x', 'rr'), ('b', 'b', 'r', 'r', 'rr'), ('b', 'b', 'r', 'b', 'rr'), ('b', 'b', 'r', 'w', 'rr'), ('b', 'b', 'b', 'x', 'rr'), ('b', 'b', 'b', 'r', 'rr'), ('b', 'b', 'b', 'b', 'rr'), ('b', 'b', 'b', 'w', 'rr'), ('b', 'b', 'w', 'x', 'rr'), ('b', 'b', 'w', 'r', 'rr'), ('b', 'b', 'w', 'b', 'rr'), ('b', 'b', 'w', 'w', 'rr'), ('b', 'w', 'x', 'x', 'rr'), ('b', 'w', 'x', 'r', 'rr'), ('b', 'w', 'x', 'b', 'rr'), ('b', 'w', 'x', 'w', 'rr'), ('b', 'w', 'r', 'x', 'rr'), ('b', 'w', 'r', 'r', 'rr'), ('b', 'w', 'r', 'b', 'rr'), ('b', 'w', 'r', 'w', 'rr'), ('b', 'w', 'b', 'x', 'rr'), ('b', 'w', 'b', 'r', 'rr'), ('b', 'w', 'b', 'b', 'rr'), ('b', 'w', 'b', 'w', 'rr'), ('b', 'w', 'w', 'x', 'rr'), ('b', 'w', 'w', 'r', 'rr'), ('b', 'w', 'w', 'b', 'rr'), ('b', 'w', 'w', 'w', 'rr'), ('w', 'x', 'x', 'x', 'rr'), ('w', 'x', 'x', 'r', 'rr'), ('w', 'x', 'x', 'b', 'rr'), ('w', 'x', 'x', 'w', 'rr'), ('w', 'x', 'r', 'x', 'rr'), ('w', 'x', 'r', 'r', 'rr'), ('w', 'x', 'r', 'b', 'rr'), ('w', 'x', 'r', 'w', 'rr'), ('w', 'x', 'b', 'x', 'rr'), ('w', 'x', 'b', 'r', 'rr'), ('w', 'x', 'b', 'b', 'rr'), ('w', 'x', 'b', 'w', 'rr'), ('w', 'x', 'w', 'x', 'rr'), ('w', 'x', 'w', 'r', 'rr'), ('w', 'x', 'w', 'b', 'rr'), ('w', 'x', 'w', 'w', 'rr'), ('w', 'r', 'x', 'x', 'rr'), ('w', 'r', 'x', 'r', 'rr'), ('w', 'r', 'x', 'b', 'rr'), ('w', 'r', 'x', 'w', 'rr'), ('w', 'r', 'r', 'x', 'rr'), ('w', 'r', 'r', 'r', 'rr'), ('w', 'r', 'r', 'b', 'rr'), ('w', 'r', 'r', 'w', 'rr'), ('w', 'r', 'b', 'x', 'rr'), ('w', 'r', 'b', 'r', 'rr'), ('w', 'r', 'b', 'b', 'rr'), ('w', 'r', 'b', 'w', 'rr'), ('w', 'r', 'w', 'x', 'rr'), ('w', 'r', 'w', 'r', 'rr'), ('w', 'r', 'w', 'b', 'rr'), ('w', 'r', 'w', 'w', 'rr'), ('w', 'b', 'x', 'x', 'rr'), ('w', 'b', 'x', 'r', 'rr'), ('w', 'b', 'x', 'b', 'rr'), ('w', 'b', 'x', 'w', 'rr'), ('w', 'b', 'r', 'x', 'rr'), ('w', 'b', 'r', 'r', 'rr'), ('w', 'b', 'r', 'b', 'rr'), ('w', 'b', 'r', 'w', 'rr'), ('w', 'b', 'b', 'x', 'rr'), ('w', 'b', 'b', 'r', 'rr'), ('w', 'b', 'b', 'b', 'rr'), ('w', 'b', 'b', 'w', 'rr'), ('w', 'b', 'w', 'x', 'rr'), ('w', 'b', 'w', 'r', 'rr'), ('w', 'b', 'w', 'b', 'rr'), ('w', 'b', 'w', 'w', 'rr'), ('w', 'w', 'x', 'x', 'rr'), ('w', 'w', 'x', 'r', 'rr'), ('w', 'w', 'x', 'b', 'rr'), ('w', 'w', 'x', 'w', 'rr'), ('w', 'w', 'r', 'x', 'rr'), ('w', 'w', 'r', 'r', 'rr'), ('w', 'w', 'r', 'b', 'rr'), ('w', 'w', 'r', 'w', 'rr'), ('w', 'w', 'b', 'x', 'rr'), ('w', 'w', 'b', 'r', 'rr'), ('w', 'w', 'b', 'b', 'rr'), ('w', 'w', 'b', 'w', 'rr'), ('w', 'w', 'w', 'x', 'rr'), ('w', 'w', 'w', 'r', 'rr'), ('w', 'w', 'w', 'b', 'rr'), ('w', 'w', 'w', 'w', 'rr'), ('x', 'x', 'x', 'x', 'rw'), ('x', 'x', 'x', 'r', 'rw'), ('x', 'x', 'x', 'b', 'rw'), ('x', 'x', 'x', 'w', 'rw'), ('x', 'x', 'r', 'x', 'rw'), ('x', 'x', 'r', 'r', 'rw'), ('x', 'x', 'r', 'b', 'rw'), ('x', 'x', 'r', 'w', 'rw'), ('x', 'x', 'b', 'x', 'rw'), ('x', 'x', 'b', 'r', 'rw'), ('x', 'x', 'b', 'b', 'rw'), ('x', 'x', 'b', 'w', 'rw'), ('x', 'x', 'w', 'x', 'rw'), ('x', 'x', 'w', 'r', 'rw'), ('x', 'x', 'w', 'b', 'rw'), ('x', 'x', 'w', 'w', 'rw'), ('x', 'r', 'x', 'x', 'rw'), ('x', 'r', 'x', 'r', 'rw'), ('x', 'r', 'x', 'b', 'rw'), ('x', 'r', 'x', 'w', 'rw'), ('x', 'r', 'r', 'x', 'rw'), ('x', 'r', 'r', 'r', 'rw'), ('x', 'r', 'r', 'b', 'rw'), ('x', 'r', 'r', 'w', 'rw'), ('x', 'r', 'b', 'x', 'rw'), ('x', 'r', 'b', 'r', 'rw'), ('x', 'r', 'b', 'b', 'rw'), ('x', 'r', 'b', 'w', 'rw'), ('x', 'r', 'w', 'x', 'rw'), ('x', 'r', 'w', 'r', 'rw'), ('x', 'r', 'w', 'b', 'rw'), ('x', 'r', 'w', 'w', 'rw'), ('x', 'b', 'x', 'x', 'rw'), ('x', 'b', 'x', 'r', 'rw'), ('x', 'b', 'x', 'b', 'rw'), ('x', 'b', 'x', 'w', 'rw'), ('x', 'b', 'r', 'x', 'rw'), ('x', 'b', 'r', 'r', 'rw'), ('x', 'b', 'r', 'b', 'rw'), ('x', 'b', 'r', 'w', 'rw'), ('x', 'b', 'b', 'x', 'rw'), ('x', 'b', 'b', 'r', 'rw'), ('x', 'b', 'b', 'b', 'rw'), ('x', 'b', 'b', 'w', 'rw'), ('x', 'b', 'w', 'x', 'rw'), ('x', 'b', 'w', 'r', 'rw'), ('x', 'b', 'w', 'b', 'rw'), ('x', 'b', 'w', 'w', 'rw'), ('x', 'w', 'x', 'x', 'rw'), ('x', 'w', 'x', 'r', 'rw'), ('x', 'w', 'x', 'b', 'rw'), ('x', 'w', 'x', 'w', 'rw'), ('x', 'w', 'r', 'x', 'rw'), ('x', 'w', 'r', 'r', 'rw'), ('x', 'w', 'r', 'b', 'rw'), ('x', 'w', 'r', 'w', 'rw'), ('x', 'w', 'b', 'x', 'rw'), ('x', 'w', 'b', 'r', 'rw'), ('x', 'w', 'b', 'b', 'rw'), ('x', 'w', 'b', 'w', 'rw'), ('x', 'w', 'w', 'x', 'rw'), ('x', 'w', 'w', 'r', 'rw'), ('x', 'w', 'w', 'b', 'rw'), ('x', 'w', 'w', 'w', 'rw'), ('r', 'x', 'x', 'x', 'rw'), ('r', 'x', 'x', 'r', 'rw'), ('r', 'x', 'x', 'b', 'rw'), ('r', 'x', 'x', 'w', 'rw'), ('r', 'x', 'r', 'x', 'rw'), ('r', 'x', 'r', 'r', 'rw'), ('r', 'x', 'r', 'b', 'rw'), ('r', 'x', 'r', 'w', 'rw'), ('r', 'x', 'b', 'x', 'rw'), ('r', 'x', 'b', 'r', 'rw'), ('r', 'x', 'b', 'b', 'rw'), ('r', 'x', 'b', 'w', 'rw'), ('r', 'x', 'w', 'x', 'rw'), ('r', 'x', 'w', 'r', 'rw'), ('r', 'x', 'w', 'b', 'rw'), ('r', 'x', 'w', 'w', 'rw'), ('r', 'r', 'x', 'x', 'rw'), ('r', 'r', 'x', 'r', 'rw'), ('r', 'r', 'x', 'b', 'rw'), ('r', 'r', 'x', 'w', 'rw'), ('r', 'r', 'r', 'x', 'rw'), ('r', 'r', 'r', 'r', 'rw'), ('r', 'r', 'r', 'b', 'rw'), ('r', 'r', 'r', 'w', 'rw'), ('r', 'r', 'b', 'x', 'rw'), ('r', 'r', 'b', 'r', 'rw'), ('r', 'r', 'b', 'b', 'rw'), ('r', 'r', 'b', 'w', 'rw'), ('r', 'r', 'w', 'x', 'rw'), ('r', 'r', 'w', 'r', 'rw'), ('r', 'r', 'w', 'b', 'rw'), ('r', 'r', 'w', 'w', 'rw'), ('r', 'b', 'x', 'x', 'rw'), ('r', 'b', 'x', 'r', 'rw'), ('r', 'b', 'x', 'b', 'rw'), ('r', 'b', 'x', 'w', 'rw'), ('r', 'b', 'r', 'x', 'rw'), ('r', 'b', 'r', 'r', 'rw'), ('r', 'b', 'r', 'b', 'rw'), ('r', 'b', 'r', 'w', 'rw'), ('r', 'b', 'b', 'x', 'rw'), ('r', 'b', 'b', 'r', 'rw'), ('r', 'b', 'b', 'b', 'rw'), ('r', 'b', 'b', 'w', 'rw'), ('r', 'b', 'w', 'x', 'rw'), ('r', 'b', 'w', 'r', 'rw'), ('r', 'b', 'w', 'b', 'rw'), ('r', 'b', 'w', 'w', 'rw'), ('r', 'w', 'x', 'x', 'rw'), ('r', 'w', 'x', 'r', 'rw'), ('r', 'w', 'x', 'b', 'rw'), ('r', 'w', 'x', 'w', 'rw'), ('r', 'w', 'r', 'x', 'rw'), ('r', 'w', 'r', 'r', 'rw'), ('r', 'w', 'r', 'b', 'rw'), ('r', 'w', 'r', 'w', 'rw'), ('r', 'w', 'b', 'x', 'rw'), ('r', 'w', 'b', 'r', 'rw'), ('r', 'w', 'b', 'b', 'rw'), ('r', 'w', 'b', 'w', 'rw'), ('r', 'w', 'w', 'x', 'rw'), ('r', 'w', 'w', 'r', 'rw'), ('r', 'w', 'w', 'b', 'rw'), ('r', 'w', 'w', 'w', 'rw'), ('b', 'x', 'x', 'x', 'rw'), ('b', 'x', 'x', 'r', 'rw'), ('b', 'x', 'x', 'b', 'rw'), ('b', 'x', 'x', 'w', 'rw'), ('b', 'x', 'r', 'x', 'rw'), ('b', 'x', 'r', 'r', 'rw'), ('b', 'x', 'r', 'b', 'rw'), ('b', 'x', 'r', 'w', 'rw'), ('b', 'x', 'b', 'x', 'rw'), ('b', 'x', 'b', 'r', 'rw'), ('b', 'x', 'b', 'b', 'rw'), ('b', 'x', 'b', 'w', 'rw'), ('b', 'x', 'w', 'x', 'rw'), ('b', 'x', 'w', 'r', 'rw'), ('b', 'x', 'w', 'b', 'rw'), ('b', 'x', 'w', 'w', 'rw'), ('b', 'r', 'x', 'x', 'rw'), ('b', 'r', 'x', 'r', 'rw'), ('b', 'r', 'x', 'b', 'rw'), ('b', 'r', 'x', 'w', 'rw'), ('b', 'r', 'r', 'x', 'rw'), ('b', 'r', 'r', 'r', 'rw'), ('b', 'r', 'r', 'b', 'rw'), ('b', 'r', 'r', 'w', 'rw'), ('b', 'r', 'b', 'x', 'rw'), ('b', 'r', 'b', 'r', 'rw'), ('b', 'r', 'b', 'b', 'rw'), ('b', 'r', 'b', 'w', 'rw'), ('b', 'r', 'w', 'x', 'rw'), ('b', 'r', 'w', 'r', 'rw'), ('b', 'r', 'w', 'b', 'rw'), ('b', 'r', 'w', 'w', 'rw'), ('b', 'b', 'x', 'x', 'rw'), ('b', 'b', 'x', 'r', 'rw'), ('b', 'b', 'x', 'b', 'rw'), ('b', 'b', 'x', 'w', 'rw'), ('b', 'b', 'r', 'x', 'rw'), ('b', 'b', 'r', 'r', 'rw'), ('b', 'b', 'r', 'b', 'rw'), ('b', 'b', 'r', 'w', 'rw'), ('b', 'b', 'b', 'x', 'rw'), ('b', 'b', 'b', 'r', 'rw'), ('b', 'b', 'b', 'b', 'rw'), ('b', 'b', 'b', 'w', 'rw'), ('b', 'b', 'w', 'x', 'rw'), ('b', 'b', 'w', 'r', 'rw'), ('b', 'b', 'w', 'b', 'rw'), ('b', 'b', 'w', 'w', 'rw'), ('b', 'w', 'x', 'x', 'rw'), ('b', 'w', 'x', 'r', 'rw'), ('b', 'w', 'x', 'b', 'rw'), ('b', 'w', 'x', 'w', 'rw'), ('b', 'w', 'r', 'x', 'rw'), ('b', 'w', 'r', 'r', 'rw'), ('b', 'w', 'r', 'b', 'rw'), ('b', 'w', 'r', 'w', 'rw'), ('b', 'w', 'b', 'x', 'rw'), ('b', 'w', 'b', 'r', 'rw'), ('b', 'w', 'b', 'b', 'rw'), ('b', 'w', 'b', 'w', 'rw'), ('b', 'w', 'w', 'x', 'rw'), ('b', 'w', 'w', 'r', 'rw'), ('b', 'w', 'w', 'b', 'rw'), ('b', 'w', 'w', 'w', 'rw'), ('w', 'x', 'x', 'x', 'rw'), ('w', 'x', 'x', 'r', 'rw'), ('w', 'x', 'x', 'b', 'rw'), ('w', 'x', 'x', 'w', 'rw'), ('w', 'x', 'r', 'x', 'rw'), ('w', 'x', 'r', 'r', 'rw'), ('w', 'x', 'r', 'b', 'rw'), ('w', 'x', 'r', 'w', 'rw'), ('w', 'x', 'b', 'x', 'rw'), ('w', 'x', 'b', 'r', 'rw'), ('w', 'x', 'b', 'b', 'rw'), ('w', 'x', 'b', 'w', 'rw'), ('w', 'x', 'w', 'x', 'rw'), ('w', 'x', 'w', 'r', 'rw'), ('w', 'x', 'w', 'b', 'rw'), ('w', 'x', 'w', 'w', 'rw'), ('w', 'r', 'x', 'x', 'rw'), ('w', 'r', 'x', 'r', 'rw'), ('w', 'r', 'x', 'b', 'rw'), ('w', 'r', 'x', 'w', 'rw'), ('w', 'r', 'r', 'x', 'rw'), ('w', 'r', 'r', 'r', 'rw'), ('w', 'r', 'r', 'b', 'rw'), ('w', 'r', 'r', 'w', 'rw'), ('w', 'r', 'b', 'x', 'rw'), ('w', 'r', 'b', 'r', 'rw'), ('w', 'r', 'b', 'b', 'rw'), ('w', 'r', 'b', 'w', 'rw'), ('w', 'r', 'w', 'x', 'rw'), ('w', 'r', 'w', 'r', 'rw'), ('w', 'r', 'w', 'b', 'rw'), ('w', 'r', 'w', 'w', 'rw'), ('w', 'b', 'x', 'x', 'rw'), ('w', 'b', 'x', 'r', 'rw'), ('w', 'b', 'x', 'b', 'rw'), ('w', 'b', 'x', 'w', 'rw'), ('w', 'b', 'r', 'x', 'rw'), ('w', 'b', 'r', 'r', 'rw'), ('w', 'b', 'r', 'b', 'rw'), ('w', 'b', 'r', 'w', 'rw'), ('w', 'b', 'b', 'x', 'rw'), ('w', 'b', 'b', 'r', 'rw'), ('w', 'b', 'b', 'b', 'rw'), ('w', 'b', 'b', 'w', 'rw'), ('w', 'b', 'w', 'x', 'rw'), ('w', 'b', 'w', 'r', 'rw'), ('w', 'b', 'w', 'b', 'rw'), ('w', 'b', 'w', 'w', 'rw'), ('w', 'w', 'x', 'x', 'rw'), ('w', 'w', 'x', 'r', 'rw'), ('w', 'w', 'x', 'b', 'rw'), ('w', 'w', 'x', 'w', 'rw'), ('w', 'w', 'r', 'x', 'rw'), ('w', 'w', 'r', 'r', 'rw'), ('w', 'w', 'r', 'b', 'rw'), ('w', 'w', 'r', 'w', 'rw'), ('w', 'w', 'b', 'x', 'rw'), ('w', 'w', 'b', 'r', 'rw'), ('w', 'w', 'b', 'b', 'rw'), ('w', 'w', 'b', 'w', 'rw'), ('w', 'w', 'w', 'x', 'rw'), ('w', 'w', 'w', 'r', 'rw'), ('w', 'w', 'w', 'b', 'rw'), ('w', 'w', 'w', 'w', 'rw')]\n",
      "8177\n"
     ]
    }
   ],
   "source": [
    "states = generate_states()\n",
    "trainingsfile_df = load_training_df()\n",
    "distribution_df = calc_container_distribution(trainingsfile_df)\n",
    "tpm = get_transition_probability_matrix(states)\n",
    "reward_matrix = get_reward_matrix(states, tpm)"
   ]
  },
  {
   "cell_type": "code",
   "execution_count": 12,
   "metadata": {},
   "outputs": [
    {
     "name": "stdout",
     "output_type": "stream",
     "text": [
      "[[0. 0. 7. ... 0. 0. 0.]\n",
      " [0. 0. 0. ... 0. 0. 0.]\n",
      " [0. 0. 0. ... 0. 0. 0.]\n",
      " ...\n",
      " [0. 0. 0. ... 0. 0. 0.]\n",
      " [0. 0. 0. ... 0. 0. 0.]\n",
      " [0. 0. 0. ... 0. 0. 0.]]\n"
     ]
    }
   ],
   "source": [
    "print(reward_matrix)"
   ]
  },
  {
   "cell_type": "code",
   "execution_count": 18,
   "metadata": {},
   "outputs": [
    {
     "name": "stdout",
     "output_type": "stream",
     "text": [
      "(1536, 1536)\n"
     ]
    },
    {
     "ename": "InvalidError",
     "evalue": "'PyMDPToolbox - The transition probability array must have the shape (A, S, S)  with S : number of states greater than 0 and A : number of actions greater than 0. i.e. R.shape = (A, S, S)'",
     "output_type": "error",
     "traceback": [
      "\u001b[1;31m---------------------------------------------------------------------------\u001b[0m",
      "\u001b[1;31mInvalidError\u001b[0m                              Traceback (most recent call last)",
      "\u001b[1;32m<ipython-input-18-2ab59c7eb56c>\u001b[0m in \u001b[0;36m<module>\u001b[1;34m\u001b[0m\n\u001b[0;32m      3\u001b[0m \u001b[0mprint\u001b[0m\u001b[1;33m(\u001b[0m\u001b[0mtpm\u001b[0m\u001b[1;33m.\u001b[0m\u001b[0mshape\u001b[0m\u001b[1;33m)\u001b[0m\u001b[1;33m\u001b[0m\u001b[1;33m\u001b[0m\u001b[0m\n\u001b[0;32m      4\u001b[0m \u001b[1;33m\u001b[0m\u001b[0m\n\u001b[1;32m----> 5\u001b[1;33m \u001b[0mmdpResultPolicy\u001b[0m \u001b[1;33m=\u001b[0m \u001b[0mmdptoolbox\u001b[0m\u001b[1;33m.\u001b[0m\u001b[0mmdp\u001b[0m\u001b[1;33m.\u001b[0m\u001b[0mPolicyIteration\u001b[0m\u001b[1;33m(\u001b[0m\u001b[0mtpm\u001b[0m\u001b[1;33m,\u001b[0m \u001b[0mreward_matrix\u001b[0m\u001b[1;33m,\u001b[0m \u001b[1;36m0.3\u001b[0m\u001b[1;33m,\u001b[0m \u001b[0mmax_iter\u001b[0m\u001b[1;33m=\u001b[0m\u001b[0mlen\u001b[0m\u001b[1;33m(\u001b[0m\u001b[0mstates\u001b[0m\u001b[1;33m)\u001b[0m \u001b[1;33m*\u001b[0m \u001b[1;36m5\u001b[0m\u001b[1;33m)\u001b[0m\u001b[1;33m\u001b[0m\u001b[1;33m\u001b[0m\u001b[0m\n\u001b[0m\u001b[0;32m      6\u001b[0m \u001b[0mmdpResultValue\u001b[0m \u001b[1;33m=\u001b[0m \u001b[0mmdptoolbox\u001b[0m\u001b[1;33m.\u001b[0m\u001b[0mmdp\u001b[0m\u001b[1;33m.\u001b[0m\u001b[0mValueIteration\u001b[0m\u001b[1;33m(\u001b[0m\u001b[0mtpm\u001b[0m\u001b[1;33m,\u001b[0m \u001b[0mreward_matrix\u001b[0m\u001b[1;33m,\u001b[0m \u001b[1;36m0.3\u001b[0m\u001b[1;33m,\u001b[0m \u001b[0mmax_iter\u001b[0m\u001b[1;33m=\u001b[0m\u001b[0mlen\u001b[0m\u001b[1;33m(\u001b[0m\u001b[0mstates\u001b[0m\u001b[1;33m)\u001b[0m \u001b[1;33m*\u001b[0m \u001b[1;36m5\u001b[0m\u001b[1;33m)\u001b[0m\u001b[1;33m\u001b[0m\u001b[1;33m\u001b[0m\u001b[0m\n\u001b[0;32m      7\u001b[0m \u001b[1;33m\u001b[0m\u001b[0m\n",
      "\u001b[1;32m~\\Anaconda3\\lib\\site-packages\\mdptoolbox\\mdp.py\u001b[0m in \u001b[0;36m__init__\u001b[1;34m(self, transitions, reward, discount, policy0, max_iter, eval_type)\u001b[0m\n\u001b[0;32m    563\u001b[0m         \u001b[1;31m#\u001b[0m\u001b[1;33m\u001b[0m\u001b[1;33m\u001b[0m\u001b[1;33m\u001b[0m\u001b[0m\n\u001b[0;32m    564\u001b[0m         \u001b[1;31m# Set up the MDP, but don't need to worry about epsilon values\u001b[0m\u001b[1;33m\u001b[0m\u001b[1;33m\u001b[0m\u001b[1;33m\u001b[0m\u001b[0m\n\u001b[1;32m--> 565\u001b[1;33m         \u001b[0mMDP\u001b[0m\u001b[1;33m.\u001b[0m\u001b[0m__init__\u001b[0m\u001b[1;33m(\u001b[0m\u001b[0mself\u001b[0m\u001b[1;33m,\u001b[0m \u001b[0mtransitions\u001b[0m\u001b[1;33m,\u001b[0m \u001b[0mreward\u001b[0m\u001b[1;33m,\u001b[0m \u001b[0mdiscount\u001b[0m\u001b[1;33m,\u001b[0m \u001b[1;32mNone\u001b[0m\u001b[1;33m,\u001b[0m \u001b[0mmax_iter\u001b[0m\u001b[1;33m)\u001b[0m\u001b[1;33m\u001b[0m\u001b[1;33m\u001b[0m\u001b[0m\n\u001b[0m\u001b[0;32m    566\u001b[0m         \u001b[1;31m# Check if the user has supplied an initial policy. If not make one.\u001b[0m\u001b[1;33m\u001b[0m\u001b[1;33m\u001b[0m\u001b[1;33m\u001b[0m\u001b[0m\n\u001b[0;32m    567\u001b[0m         \u001b[1;32mif\u001b[0m \u001b[0mpolicy0\u001b[0m \u001b[1;32mis\u001b[0m \u001b[1;32mNone\u001b[0m\u001b[1;33m:\u001b[0m\u001b[1;33m\u001b[0m\u001b[1;33m\u001b[0m\u001b[0m\n",
      "\u001b[1;32m~\\Anaconda3\\lib\\site-packages\\mdptoolbox\\mdp.py\u001b[0m in \u001b[0;36m__init__\u001b[1;34m(self, transitions, reward, discount, epsilon, max_iter)\u001b[0m\n\u001b[0;32m    191\u001b[0m         \u001b[1;31m# we run a check on P and R to make sure they are describing an MDP. If\u001b[0m\u001b[1;33m\u001b[0m\u001b[1;33m\u001b[0m\u001b[1;33m\u001b[0m\u001b[0m\n\u001b[0;32m    192\u001b[0m         \u001b[1;31m# an exception isn't raised then they are assumed to be correct.\u001b[0m\u001b[1;33m\u001b[0m\u001b[1;33m\u001b[0m\u001b[1;33m\u001b[0m\u001b[0m\n\u001b[1;32m--> 193\u001b[1;33m         \u001b[0m_util\u001b[0m\u001b[1;33m.\u001b[0m\u001b[0mcheck\u001b[0m\u001b[1;33m(\u001b[0m\u001b[0mtransitions\u001b[0m\u001b[1;33m,\u001b[0m \u001b[0mreward\u001b[0m\u001b[1;33m)\u001b[0m\u001b[1;33m\u001b[0m\u001b[1;33m\u001b[0m\u001b[0m\n\u001b[0m\u001b[0;32m    194\u001b[0m         \u001b[0mself\u001b[0m\u001b[1;33m.\u001b[0m\u001b[0mS\u001b[0m\u001b[1;33m,\u001b[0m \u001b[0mself\u001b[0m\u001b[1;33m.\u001b[0m\u001b[0mA\u001b[0m \u001b[1;33m=\u001b[0m \u001b[0m_computeDimensions\u001b[0m\u001b[1;33m(\u001b[0m\u001b[0mtransitions\u001b[0m\u001b[1;33m)\u001b[0m\u001b[1;33m\u001b[0m\u001b[1;33m\u001b[0m\u001b[0m\n\u001b[0;32m    195\u001b[0m         \u001b[0mself\u001b[0m\u001b[1;33m.\u001b[0m\u001b[0mP\u001b[0m \u001b[1;33m=\u001b[0m \u001b[0mself\u001b[0m\u001b[1;33m.\u001b[0m\u001b[0m_computeTransition\u001b[0m\u001b[1;33m(\u001b[0m\u001b[0mtransitions\u001b[0m\u001b[1;33m)\u001b[0m\u001b[1;33m\u001b[0m\u001b[1;33m\u001b[0m\u001b[0m\n",
      "\u001b[1;32m~\\Anaconda3\\lib\\site-packages\\mdptoolbox\\util.py\u001b[0m in \u001b[0;36mcheck\u001b[1;34m(P, R)\u001b[0m\n\u001b[0;32m    250\u001b[0m             \u001b[0maP\u001b[0m\u001b[1;33m,\u001b[0m \u001b[0msP0\u001b[0m\u001b[1;33m,\u001b[0m \u001b[0msP1\u001b[0m \u001b[1;33m=\u001b[0m \u001b[0m_checkDimensionsListLike\u001b[0m\u001b[1;33m(\u001b[0m\u001b[0mP\u001b[0m\u001b[1;33m)\u001b[0m\u001b[1;33m\u001b[0m\u001b[1;33m\u001b[0m\u001b[0m\n\u001b[0;32m    251\u001b[0m         \u001b[1;32melse\u001b[0m\u001b[1;33m:\u001b[0m\u001b[1;33m\u001b[0m\u001b[1;33m\u001b[0m\u001b[0m\n\u001b[1;32m--> 252\u001b[1;33m             \u001b[1;32mraise\u001b[0m \u001b[0m_error\u001b[0m\u001b[1;33m.\u001b[0m\u001b[0mInvalidError\u001b[0m\u001b[1;33m(\u001b[0m\u001b[0m_MDPERR\u001b[0m\u001b[1;33m[\u001b[0m\u001b[1;34m\"P_shape\"\u001b[0m\u001b[1;33m]\u001b[0m\u001b[1;33m)\u001b[0m\u001b[1;33m\u001b[0m\u001b[1;33m\u001b[0m\u001b[0m\n\u001b[0m\u001b[0;32m    253\u001b[0m     \u001b[1;32mexcept\u001b[0m \u001b[0mAttributeError\u001b[0m\u001b[1;33m:\u001b[0m\u001b[1;33m\u001b[0m\u001b[1;33m\u001b[0m\u001b[0m\n\u001b[0;32m    254\u001b[0m         \u001b[1;32mtry\u001b[0m\u001b[1;33m:\u001b[0m\u001b[1;33m\u001b[0m\u001b[1;33m\u001b[0m\u001b[0m\n",
      "\u001b[1;31mInvalidError\u001b[0m: 'PyMDPToolbox - The transition probability array must have the shape (A, S, S)  with S : number of states greater than 0 and A : number of actions greater than 0. i.e. R.shape = (A, S, S)'"
     ]
    }
   ],
   "source": [
    "import mdptoolbox\n",
    "\n",
    "print(tpm.shape)\n",
    "\n",
    "mdpResultPolicy = mdptoolbox.mdp.PolicyIteration(tpm, reward_matrix, 0.3, max_iter=len(states) * 5)\n",
    "mdpResultValue = mdptoolbox.mdp.ValueIteration(tpm, reward_matrix, 0.3, max_iter=len(states) * 5)\n",
    "\n",
    "# Run the MDP\n",
    "mdpResultPolicy.run()\n",
    "mdpResultValue.run()\n",
    "\n",
    "print('PolicyIteration:')\n",
    "print(mdpResultPolicy.policy)\n",
    "print(mdpResultPolicy.V)\n",
    "print(mdpResultPolicy.iter)\n",
    "\n",
    "print('ValueIteration:')\n",
    "print(mdpResultValue.policy)\n",
    "print(mdpResultValue.V)\n",
    "print(mdpResultValue.iter)"
   ]
  },
  {
   "cell_type": "code",
   "execution_count": null,
   "metadata": {},
   "outputs": [],
   "source": []
  }
 ],
 "metadata": {
  "kernelspec": {
   "display_name": "Python 3",
   "language": "python",
   "name": "python3"
  },
  "language_info": {
   "codemirror_mode": {
    "name": "ipython",
    "version": 3
   },
   "file_extension": ".py",
   "mimetype": "text/x-python",
   "name": "python",
   "nbconvert_exporter": "python",
   "pygments_lexer": "ipython3",
   "version": "3.7.3"
  }
 },
 "nbformat": 4,
 "nbformat_minor": 2
}
